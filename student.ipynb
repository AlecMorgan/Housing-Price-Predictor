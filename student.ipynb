{
 "cells": [
  {
   "cell_type": "markdown",
   "metadata": {},
   "source": [
    "## Mod 1 Final Project Submission\n",
    "\n",
    "* Students' names: Kayli Leung and Alec Morgan\n",
    "* Students' pace: Full time\n",
    "* Scheduled project review date/time: 04/19/2019 12:30 PM \n",
    "* Instructors' names: Miles Erickson, Greg Damico\n",
    "* Blog post URL: TODO(Alec): Write blog."
   ]
  },
  {
   "cell_type": "markdown",
   "metadata": {},
   "source": [
    "## BUSINESS UNDERSTANDING"
   ]
  },
  {
   "cell_type": "markdown",
   "metadata": {},
   "source": [
    "## Project Goals\n",
    "\n",
    "For this project, we imagine ourselves as employees of a company such as Redfin or Zillow. Our goal is to build the most accurate price-estimating model possible, which in turn will help with our site's user retention. To this end we ask three questions:\n",
    "\n",
    "* How accurately can we predict prices?\n",
    "* How *consistently* can we maintain that accuracy?\n",
    "* Can this accuracy be improved by targeting a majority percentile and thus ignoring outliers?\n",
    "\n",
    "To this end we employ the CRISP-DM methodology: business understanding, data understanding, data preparation, modeling, evaluation, and deployment. "
   ]
  },
  {
   "cell_type": "markdown",
   "metadata": {},
   "source": [
    "## Import necessary modules"
   ]
  },
  {
   "cell_type": "code",
   "execution_count": 1,
   "metadata": {},
   "outputs": [],
   "source": [
    "import pandas as pd\n",
    "import seaborn as sns\n",
    "import matplotlib.pyplot as plt\n",
    "import statsmodels.api as sm\n",
    "from statsmodels.formula.api import ols\n",
    "from sklearn.linear_model import LinearRegression\n",
    "import numpy as np\n",
    "from sklearn.metrics import mean_squared_error, median_absolute_error\n",
    "from sklearn.model_selection import train_test_split\n",
    "from sklearn.model_selection import KFold\n",
    "from haversine import haversine"
   ]
  },
  {
   "cell_type": "markdown",
   "metadata": {},
   "source": [
    "### Loading the King County home sales data set\n",
    "\n",
    "Here we load our data set: some 21,597 records of home sales in King County, WA from 2014 and 2015. There are 21 pieces of information in each record, each of which is explained briefly in `column_names.md`. A more detailed glossary of these and many more terms can be found at: https://info.kingcounty.gov/assessor/esales/Glossary.aspx?type=r"
   ]
  },
  {
   "cell_type": "code",
   "execution_count": 2,
   "metadata": {},
   "outputs": [],
   "source": [
    "house_data = pd.read_csv('kc_house_data.csv')"
   ]
  },
  {
   "cell_type": "markdown",
   "metadata": {},
   "source": [
    "Our dataset is only 2.5 MBs, so we choose not to subsample it (since this step would only be necessary if it were too large to process efficiently in the first place). "
   ]
  },
  {
   "cell_type": "code",
   "execution_count": 3,
   "metadata": {},
   "outputs": [
    {
     "name": "stdout",
     "output_type": "stream",
     "text": [
      "<class 'pandas.core.frame.DataFrame'>\n",
      "RangeIndex: 21597 entries, 0 to 21596\n",
      "Data columns (total 21 columns):\n",
      "id               21597 non-null int64\n",
      "date             21597 non-null object\n",
      "price            21597 non-null float64\n",
      "bedrooms         21597 non-null int64\n",
      "bathrooms        21597 non-null float64\n",
      "sqft_living      21597 non-null int64\n",
      "sqft_lot         21597 non-null int64\n",
      "floors           21597 non-null float64\n",
      "waterfront       19221 non-null float64\n",
      "view             21534 non-null float64\n",
      "condition        21597 non-null int64\n",
      "grade            21597 non-null int64\n",
      "sqft_above       21597 non-null int64\n",
      "sqft_basement    21597 non-null object\n",
      "yr_built         21597 non-null int64\n",
      "yr_renovated     17755 non-null float64\n",
      "zipcode          21597 non-null int64\n",
      "lat              21597 non-null float64\n",
      "long             21597 non-null float64\n",
      "sqft_living15    21597 non-null int64\n",
      "sqft_lot15       21597 non-null int64\n",
      "dtypes: float64(8), int64(11), object(2)\n",
      "memory usage: 3.5+ MB\n"
     ]
    }
   ],
   "source": [
    "house_data.info()"
   ]
  },
  {
   "cell_type": "markdown",
   "metadata": {},
   "source": [
    "## DATA UNDERSTANDING/PREPARATION\n",
    "\n",
    "Here we remove and reformat invalid data entries so that we can have data our model is capable of working with. We also choose to remove some data features entirely due to their high collinearities--that is, being similar to each other as well as to the variable we're trying to predict (price). This way we prevent our model from erroneously believing, for example, that `zipcode` and `latitude` count twice when considering a house's value."
   ]
  },
  {
   "cell_type": "code",
   "execution_count": 4,
   "metadata": {},
   "outputs": [
    {
     "data": {
      "text/plain": [
       "0.0      12826\n",
       "?          454\n",
       "600.0      217\n",
       "500.0      209\n",
       "700.0      208\n",
       "Name: sqft_basement, dtype: int64"
      ]
     },
     "execution_count": 4,
     "metadata": {},
     "output_type": "execute_result"
    }
   ],
   "source": [
    "house_data['sqft_basement'].value_counts().head()"
   ]
  },
  {
   "cell_type": "markdown",
   "metadata": {},
   "source": [
    "454 entries list basement size as `?`. However, these same entries contain `sqft_living` and `sqft_above` values as well, and these often do not match. For columns in which `sqft_basement` is `?`, we reassign `sqft_basement` to `sqft_living` minus `sqft_above`. "
   ]
  },
  {
   "cell_type": "code",
   "execution_count": 5,
   "metadata": {},
   "outputs": [
    {
     "data": {
      "text/html": [
       "<div>\n",
       "<style scoped>\n",
       "    .dataframe tbody tr th:only-of-type {\n",
       "        vertical-align: middle;\n",
       "    }\n",
       "\n",
       "    .dataframe tbody tr th {\n",
       "        vertical-align: top;\n",
       "    }\n",
       "\n",
       "    .dataframe thead th {\n",
       "        text-align: right;\n",
       "    }\n",
       "</style>\n",
       "<table border=\"1\" class=\"dataframe\">\n",
       "  <thead>\n",
       "    <tr style=\"text-align: right;\">\n",
       "      <th></th>\n",
       "      <th>0</th>\n",
       "      <th>1</th>\n",
       "      <th>2</th>\n",
       "      <th>3</th>\n",
       "      <th>4</th>\n",
       "      <th>5</th>\n",
       "      <th>6</th>\n",
       "      <th>7</th>\n",
       "      <th>8</th>\n",
       "      <th>9</th>\n",
       "    </tr>\n",
       "  </thead>\n",
       "  <tbody>\n",
       "    <tr>\n",
       "      <th>sqft_basement</th>\n",
       "      <td>0.0</td>\n",
       "      <td>400.0</td>\n",
       "      <td>0.0</td>\n",
       "      <td>910.0</td>\n",
       "      <td>0.0</td>\n",
       "      <td>1530.0</td>\n",
       "      <td>0</td>\n",
       "      <td>0.0</td>\n",
       "      <td>730.0</td>\n",
       "      <td>0.0</td>\n",
       "    </tr>\n",
       "    <tr>\n",
       "      <th>sqft_living</th>\n",
       "      <td>1180</td>\n",
       "      <td>2570</td>\n",
       "      <td>770</td>\n",
       "      <td>1960</td>\n",
       "      <td>1680</td>\n",
       "      <td>5420</td>\n",
       "      <td>1715</td>\n",
       "      <td>1060</td>\n",
       "      <td>1780</td>\n",
       "      <td>1890</td>\n",
       "    </tr>\n",
       "    <tr>\n",
       "      <th>sqft_above</th>\n",
       "      <td>1180</td>\n",
       "      <td>2170</td>\n",
       "      <td>770</td>\n",
       "      <td>1050</td>\n",
       "      <td>1680</td>\n",
       "      <td>3890</td>\n",
       "      <td>1715</td>\n",
       "      <td>1060</td>\n",
       "      <td>1050</td>\n",
       "      <td>1890</td>\n",
       "    </tr>\n",
       "  </tbody>\n",
       "</table>\n",
       "</div>"
      ],
      "text/plain": [
       "                  0      1    2      3     4       5     6     7      8     9\n",
       "sqft_basement   0.0  400.0  0.0  910.0   0.0  1530.0     0   0.0  730.0   0.0\n",
       "sqft_living    1180   2570  770   1960  1680    5420  1715  1060   1780  1890\n",
       "sqft_above     1180   2170  770   1050  1680    3890  1715  1060   1050  1890"
      ]
     },
     "execution_count": 5,
     "metadata": {},
     "output_type": "execute_result"
    }
   ],
   "source": [
    "mask = house_data['sqft_basement'] == '?'\n",
    "house_data.loc[mask, 'sqft_basement'] = (house_data['sqft_living'] - house_data['sqft_above'])\n",
    "house_data[['sqft_basement', 'sqft_living', 'sqft_above']].head(10).T"
   ]
  },
  {
   "cell_type": "code",
   "execution_count": 6,
   "metadata": {},
   "outputs": [
    {
     "data": {
      "text/plain": [
       "63"
      ]
     },
     "execution_count": 6,
     "metadata": {},
     "output_type": "execute_result"
    }
   ],
   "source": [
    "house_data['view'].isna().sum()"
   ]
  },
  {
   "cell_type": "markdown",
   "metadata": {},
   "source": [
    "We have 63 `NaN` values for `view`. Since this is still not a large proportion of our observations, we choose to discard the afflicted rows. Our total entry count drops from 21,597 to 21,534. "
   ]
  },
  {
   "cell_type": "code",
   "execution_count": 7,
   "metadata": {},
   "outputs": [
    {
     "data": {
      "text/plain": [
       "0"
      ]
     },
     "execution_count": 7,
     "metadata": {},
     "output_type": "execute_result"
    }
   ],
   "source": [
    "house_data = house_data.dropna(subset=['view'])\n",
    "house_data['view'].isna().sum()"
   ]
  },
  {
   "cell_type": "code",
   "execution_count": 8,
   "metadata": {},
   "outputs": [
    {
     "data": {
      "text/plain": [
       "0.0       16961\n",
       "2014.0       73\n",
       "2003.0       31\n",
       "2013.0       31\n",
       "2007.0       30\n",
       "Name: yr_renovated, dtype: int64"
      ]
     },
     "execution_count": 8,
     "metadata": {},
     "output_type": "execute_result"
    }
   ],
   "source": [
    "house_data['yr_renovated'].value_counts().head()"
   ]
  },
  {
   "cell_type": "markdown",
   "metadata": {},
   "source": [
    "16,961 of our entries have `yr_renovated` values of `0`. Fixing that would require making unsafe assumptions, so we elect to drop this column entirely instead. "
   ]
  },
  {
   "cell_type": "code",
   "execution_count": 9,
   "metadata": {},
   "outputs": [],
   "source": [
    "house_data = house_data.drop('yr_renovated', axis=1)"
   ]
  },
  {
   "cell_type": "markdown",
   "metadata": {},
   "source": [
    "Time for a quick check on the correlations of our variables!"
   ]
  },
  {
   "cell_type": "code",
   "execution_count": 10,
   "metadata": {},
   "outputs": [
    {
     "data": {
      "image/png": "[encoded data removed]",
      "text/plain": [
       "<Figure size 432x288 with 2 Axes>"
      ]
     },
     "metadata": {
      "needs_background": "light"
     },
     "output_type": "display_data"
    }
   ],
   "source": [
    "color_map = sns.diverging_palette(220, 10, as_cmap=True)\n",
    "_ = sns.heatmap(house_data.corr(), cmap=color_map)"
   ]
  },
  {
   "cell_type": "markdown",
   "metadata": {},
   "source": [
    "Due to their high collinearity with other variables, we choose to drop `zipcode`, `sqft_above`, and `sqft_living15`. Furthermore, we dropped `grade` because the documentation of the column showed that part of the grading system includes square footage as well as number of bathrooms, which suggests high collinearity (as reflected in the numbers)."
   ]
  },
  {
   "cell_type": "code",
   "execution_count": 11,
   "metadata": {},
   "outputs": [],
   "source": [
    "house_data = house_data.drop('zipcode', axis=1)\n",
    "house_data = house_data.drop('sqft_above', axis=1)\n",
    "house_data = house_data.drop('sqft_living15', axis=1)\n",
    "house_data = house_data.drop('grade', axis=1)"
   ]
  },
  {
   "cell_type": "code",
   "execution_count": 12,
   "metadata": {},
   "outputs": [
    {
     "name": "stdout",
     "output_type": "stream",
     "text": [
      "<class 'pandas.core.frame.DataFrame'>\n",
      "Int64Index: 21534 entries, 0 to 21596\n",
      "Data columns (total 16 columns):\n",
      "id               21534 non-null int64\n",
      "date             21534 non-null object\n",
      "price            21534 non-null float64\n",
      "bedrooms         21534 non-null int64\n",
      "bathrooms        21534 non-null float64\n",
      "sqft_living      21534 non-null int64\n",
      "sqft_lot         21534 non-null int64\n",
      "floors           21534 non-null float64\n",
      "waterfront       19164 non-null float64\n",
      "view             21534 non-null float64\n",
      "condition        21534 non-null int64\n",
      "sqft_basement    21534 non-null object\n",
      "yr_built         21534 non-null int64\n",
      "lat              21534 non-null float64\n",
      "long             21534 non-null float64\n",
      "sqft_lot15       21534 non-null int64\n",
      "dtypes: float64(7), int64(7), object(2)\n",
      "memory usage: 2.8+ MB\n"
     ]
    }
   ],
   "source": [
    "house_data.info()"
   ]
  },
  {
   "cell_type": "markdown",
   "metadata": {},
   "source": [
    "`waterfront` contains 2,370 `Null` values. We don't want to drop 2,370 entries, so we elect to replace these with `0` instead, since `0` is the most frequently occurring value for `waterfront`."
   ]
  },
  {
   "cell_type": "code",
   "execution_count": 13,
   "metadata": {},
   "outputs": [],
   "source": [
    "house_data = house_data.fillna(0)"
   ]
  },
  {
   "cell_type": "markdown",
   "metadata": {},
   "source": [
    "Since `price` is our target variable, we want it to have a normal distribution--if not, it will be difficult to linearly model."
   ]
  },
  {
   "cell_type": "code",
   "execution_count": 59,
   "metadata": {},
   "outputs": [
    {
     "data": {
      "image/png": "[encoded data removed]",
      "text/plain": [
       "<Figure size 648x648 with 1 Axes>"
      ]
     },
     "metadata": {
      "needs_background": "light"
     },
     "output_type": "display_data"
    }
   ],
   "source": [
    "plt.figure(figsize=(9,9))\n",
    "plt.ylim(0, 8000)\n",
    "plt.xlabel('Price')\n",
    "plt.ylabel('Number of Sales')\n",
    "plt.title('Distribution of House Sale Prices')\n",
    "_ = plt.hist(house_data['price'], bins=50)"
   ]
  },
  {
   "cell_type": "markdown",
   "metadata": {},
   "source": [
    "Price is not normally distributed. However, a log transformation will rectify that."
   ]
  },
  {
   "cell_type": "code",
   "execution_count": 15,
   "metadata": {},
   "outputs": [],
   "source": [
    "house_data['log_price'] = house_data['price'].apply(lambda x: np.log(x))"
   ]
  },
  {
   "cell_type": "code",
   "execution_count": 16,
   "metadata": {},
   "outputs": [
    {
     "data": {
      "image/png": "[encoded data removed]",
      "text/plain": [
       "<Figure size 648x648 with 1 Axes>"
      ]
     },
     "metadata": {
      "needs_background": "light"
     },
     "output_type": "display_data"
    }
   ],
   "source": [
    "plt.figure(figsize=(9,9))\n",
    "plt.ylim(0, 8000)\n",
    "plt.xlabel('Price')\n",
    "plt.ylabel('Number of Sales')\n",
    "plt.title('Distribution of House Sale Prices (Prices Scaled Logarithmically)')\n",
    "_ = plt.hist(house_data['log_price'], bins=50)"
   ]
  },
  {
   "cell_type": "markdown",
   "metadata": {},
   "source": [
    "Okay, we just scrubbed a lot of data--how do the remaining columns correlate with each other?"
   ]
  },
  {
   "cell_type": "code",
   "execution_count": 17,
   "metadata": {},
   "outputs": [
    {
     "data": {
      "image/png": "[encoded data removed]",
      "text/plain": [
       "<Figure size 432x288 with 2 Axes>"
      ]
     },
     "metadata": {
      "needs_background": "light"
     },
     "output_type": "display_data"
    }
   ],
   "source": [
    "color_map = sns.diverging_palette(220, 10, as_cmap=True)\n",
    "_ = sns.heatmap(house_data.corr(), cmap=color_map)"
   ]
  },
  {
   "cell_type": "markdown",
   "metadata": {},
   "source": [
    "Most of our highly collinear variables are gone, great! But our strongest remaining predictors (e.g. `bathrooms`, `bedrooms`, and `sqft_living`) still have high collinearity with each other. In spite of this we decide to leave them, and resolve to test our model carefully to get the best accuracy we can without too much overfitting."
   ]
  },
  {
   "cell_type": "markdown",
   "metadata": {},
   "source": [
    "At this point, it occurs to us that outliers in price may skew the rest of our predictions. We decide it's in the best interests of our site to predict property values more accurately for the majority of potential users, and to that end we subset our data to the bottom 90th, 95th, and 100th percentiles of price here. Later on we will test our models on all of these, concluding that with the 90th percentile subset we get significantly improved accuracy without noteworthy issues in model bias. "
   ]
  },
  {
   "cell_type": "code",
   "execution_count": 39,
   "metadata": {},
   "outputs": [],
   "source": [
    "price_90th_perc = np.percentile(house_data['log_price'], 90)\n",
    "house_data_90 = house_data.drop(house_data[house_data['log_price'] > price_90th_perc].index)"
   ]
  },
  {
   "cell_type": "code",
   "execution_count": 40,
   "metadata": {},
   "outputs": [],
   "source": [
    "price_95th_perc = np.percentile(house_data['log_price'], 95)\n",
    "house_data_95 = house_data.drop(house_data[house_data['log_price'] > price_95th_perc].index)"
   ]
  },
  {
   "cell_type": "code",
   "execution_count": 41,
   "metadata": {},
   "outputs": [],
   "source": [
    "house_data_100 = house_data"
   ]
  },
  {
   "cell_type": "code",
   "execution_count": 63,
   "metadata": {},
   "outputs": [
    {
     "data": {
      "image/png": "[encoded data removed]",
      "text/plain": [
       "<Figure size 648x648 with 1 Axes>"
      ]
     },
     "metadata": {
      "needs_background": "light"
     },
     "output_type": "display_data"
    }
   ],
   "source": [
    "plt.figure(figsize=(9, 9))\n",
    "plt.title('Price vs Square Feet')\n",
    "plt.xlim(0, 14000)\n",
    "plt.ylim(0, 8000)\n",
    "plt.xlabel('Square Feet')\n",
    "plt.ylabel('Price (in $1000s)')\n",
    "_ = plt.scatter(house_data['sqft_living'], house_data['price']/1000, alpha=0.1, label='100th percentile of price')\n",
    "_ = plt.scatter(house_data_95['sqft_living'], house_data_95['price']/1000, alpha=0.1, label='95th percentile of price')\n",
    "_ = plt.scatter(house_data_90['sqft_living'], house_data_90['price']/1000, alpha=0.1, label='90th percentile of price')\n",
    "plt.legend()\n",
    "plt.show()"
   ]
  },
  {
   "cell_type": "markdown",
   "metadata": {},
   "source": [
    "## MODELING\n",
    "\n",
    "Here we proceed to train and test a wide variety of models with a laser focus on our two main goals: accuracy and consistency."
   ]
  },
  {
   "cell_type": "code",
   "execution_count": null,
   "metadata": {},
   "outputs": [],
   "source": [
    "# get a simple linear regression model for price and sqft_living\n",
    "x_90 = np.array(house_data_90['sqft_living'])\n",
    "y_90 = np.array(house_data_90['log_price'])\n",
    "\n",
    "x_95 = np.array(house_data_95['sqft_living'])\n",
    "y_95 = np.array(house_data_95['log_price'])\n",
    "\n",
    "x_100 = np.array(house_data_100['sqft_living'])\n",
    "y_100 = np.array(house_data_100['log_price'])"
   ]
  },
  {
   "cell_type": "code",
   "execution_count": null,
   "metadata": {},
   "outputs": [],
   "source": [
    "def simple_linear_model(predictor, target, df):\n",
    "    \"\"\"Provides model the simple linear regression model between a predictor and target\"\"\"\n",
    "    x = predictor\n",
    "    y = target\n",
    "    formula = 'y~x'\n",
    "    model = ols(formula=formula, data=df).fit()\n",
    "    return model.summary()"
   ]
  },
  {
   "cell_type": "code",
   "execution_count": null,
   "metadata": {},
   "outputs": [],
   "source": [
    "print(simple_linear_model(x_90, y_90, house_data_90))\n",
    "print(simple_linear_model(x_95, y_95, house_data_95))\n",
    "print(simple_linear_model(x_100, y_100, house_data_100))"
   ]
  },
  {
   "cell_type": "code",
   "execution_count": null,
   "metadata": {},
   "outputs": [],
   "source": [
    "def test_median_err(predictors, target):\n",
    "    \"\"\"Train a model on the variables provided and return that model's MAE.\"\"\"\n",
    "    X = np.array(predictors)\n",
    "    y = np.array(target)\n",
    "    linreg = LinearRegression()\n",
    "    test_err = []\n",
    "    for i in range(20):\n",
    "        X_train, X_test, y_train, y_test = train_test_split(X, y, test_size=0.3)\n",
    "        linreg.fit(X_train, y_train)\n",
    "        y_hat_test = linreg.predict(X_test)\n",
    "        invert_y_hat_test = np.exp(y_hat_test)\n",
    "        invert_y_test = np.exp(y_test)\n",
    "        test_err.append(median_absolute_error(invert_y_test, invert_y_hat_test))\n",
    "        \n",
    "    return np.mean(test_err)"
   ]
  },
  {
   "cell_type": "code",
   "execution_count": null,
   "metadata": {},
   "outputs": [],
   "source": [
    "sqft_living_mae_90 = test_median_err(x_90.reshape(-1,1), y_90.reshape(-1,1))\n",
    "sqft_living_mae_95 = test_median_err(x_95.reshape(-1,1), y_95.reshape(-1,1))\n",
    "sqft_living_mae_100 = test_median_err(x_100.reshape(-1,1), y_100.reshape(-1,1))\n",
    "\n",
    "sqft_living_mae_90, sqft_living_mae_95, sqft_living_mae_100"
   ]
  },
  {
   "cell_type": "markdown",
   "metadata": {},
   "source": [
    "After completing an initial model, it is easier to fit to the 90th percentile than to the 95th or 100th percentile of the data. "
   ]
  },
  {
   "cell_type": "code",
   "execution_count": null,
   "metadata": {},
   "outputs": [],
   "source": [
    "# plt.figure(figsize=(8,8))\n",
    "# plt.scatter(x_90,y_90, label='scatter', alpha = 0.3)\n",
    "# plt.plot(x_90, y_hat_90, color='red', label='linear regression')\n",
    "# plt.title('Square foot of living and their log(prices)')\n",
    "# plt.legend()\n",
    "# plt.xlabel('square footage of living space')\n",
    "# plt.ylabel('log(price)')\n",
    "# plt.show()"
   ]
  },
  {
   "cell_type": "code",
   "execution_count": null,
   "metadata": {},
   "outputs": [],
   "source": [
    "# Convert date strings to datetime. May work with this later."
   ]
  },
  {
   "cell_type": "code",
   "execution_count": null,
   "metadata": {},
   "outputs": [],
   "source": [
    "from datetime import datetime\n",
    "\n",
    "house_data['date'] = pd.to_datetime(house_data['date'])\n",
    "house_data['date'].sort_values().head()"
   ]
  },
  {
   "cell_type": "markdown",
   "metadata": {},
   "source": [
    "What follows are our experiments with a preliminary multivariate model."
   ]
  },
  {
   "cell_type": "code",
   "execution_count": null,
   "metadata": {},
   "outputs": [],
   "source": [
    "outcome = 'log_price'\n",
    "predictors = house_data.loc[:, ['sqft_living', 'yr_built', 'bedrooms', 'bathrooms', 'view']]\n",
    "predictors_int = sm.add_constant(predictors)\n",
    "model = sm.OLS(np.asarray(house_data['log_price']), np.asarray(predictors_int)).fit()\n",
    "\n",
    "model.summary()"
   ]
  },
  {
   "cell_type": "code",
   "execution_count": null,
   "metadata": {},
   "outputs": [],
   "source": [
    "X_train, X_test, y_train, y_test = train_test_split(predictors, house_data['log_price'], test_size=0.3)"
   ]
  },
  {
   "cell_type": "code",
   "execution_count": null,
   "metadata": {},
   "outputs": [],
   "source": [
    "m_linreg = LinearRegression()\n",
    "\n",
    "m_linreg.fit(X_train, y_train)"
   ]
  },
  {
   "cell_type": "code",
   "execution_count": null,
   "metadata": {},
   "outputs": [],
   "source": [
    "m_linreg.coef_"
   ]
  },
  {
   "cell_type": "code",
   "execution_count": null,
   "metadata": {},
   "outputs": [],
   "source": [
    "m_linreg.intercept_"
   ]
  },
  {
   "cell_type": "code",
   "execution_count": null,
   "metadata": {},
   "outputs": [],
   "source": [
    "y_hat_train = np.exp(m_linreg.predict(X_train))\n",
    "y_hat_test = np.exp(m_linreg.predict(X_test))"
   ]
  },
  {
   "cell_type": "code",
   "execution_count": null,
   "metadata": {},
   "outputs": [],
   "source": [
    "test_mae = median_absolute_error(y_test,y_hat_test)\n",
    "\n",
    "print('test: ' + str(test_mae))"
   ]
  },
  {
   "cell_type": "code",
   "execution_count": null,
   "metadata": {},
   "outputs": [],
   "source": [
    "from sklearn.model_selection import cross_val_score\n",
    "\n",
    "cv_5_results = cross_val_score(m_linreg, predictors, house_data['log_price'], cv=5, scoring='neg_median_absolute_error')\n",
    "\n",
    "cv_5_results = -1*cv_5_results\n",
    "cv_5_results"
   ]
  },
  {
   "cell_type": "code",
   "execution_count": null,
   "metadata": {},
   "outputs": [],
   "source": [
    "_ = house_data.hist(figsize=(15,15), bins=30)"
   ]
  },
  {
   "cell_type": "markdown",
   "metadata": {},
   "source": [
    "Create a column for distance from downtown Seattle (latitude and longitude provide by Google Maps). We expect it to be a useful predictor as Seattle and it's neighboring cities have a large proportion of job opportunities and higher population density."
   ]
  },
  {
   "cell_type": "code",
   "execution_count": null,
   "metadata": {},
   "outputs": [],
   "source": [
    "downtown_sea = (47.609795, -122.337173) #(lat, lon)"
   ]
  },
  {
   "cell_type": "code",
   "execution_count": null,
   "metadata": {},
   "outputs": [],
   "source": [
    "house_data['lat_long'] = list(zip(house_data['lat'], house_data['long']))\n",
    "house_data"
   ]
  },
  {
   "cell_type": "code",
   "execution_count": null,
   "metadata": {},
   "outputs": [],
   "source": [
    "house_data['distance_from_downtown_sea'] = house_data['lat_long'].apply(lambda x: haversine(downtown_sea, x, unit='mi'))"
   ]
  },
  {
   "cell_type": "code",
   "execution_count": null,
   "metadata": {},
   "outputs": [],
   "source": [
    "house_data.head()"
   ]
  },
  {
   "cell_type": "markdown",
   "metadata": {},
   "source": [
    "The dates in this dataframe range from 2014 to 2015. We may want to adjust the price to account for inflation in 2019. $1 in 2014 is the equivalent of $1.07 in 2019."
   ]
  },
  {
   "cell_type": "code",
   "execution_count": null,
   "metadata": {},
   "outputs": [],
   "source": [
    "house_data['2019_price'] = house_data['price'].apply(lambda x: x*1.07)\n",
    "house_data.head()"
   ]
  },
  {
   "cell_type": "code",
   "execution_count": null,
   "metadata": {},
   "outputs": [],
   "source": [
    "predictors = house_data.columns\n",
    "predictors = list(predictors)\n",
    "predictors.remove('date')\n",
    "predictors.remove('price')\n",
    "predictors.remove('log_price')\n",
    "predictors.remove('lat_long')\n",
    "predictors.remove('2019_price')\n",
    "predictors"
   ]
  },
  {
   "cell_type": "code",
   "execution_count": null,
   "metadata": {},
   "outputs": [],
   "source": [
    "predictor_mae = {}\n",
    "for predictor in predictors:\n",
    "    x = house_data[[predictor]]\n",
    "    y = house_data['log_price']\n",
    "    predictor_mae[predictor] = test_median_err(x,y)\n",
    "\n",
    "sorted_predictor_mae = sorted(predictor_mae.items(), key=lambda x :x[1])\n",
    "sorted_predictor_mae"
   ]
  },
  {
   "cell_type": "code",
   "execution_count": null,
   "metadata": {},
   "outputs": [],
   "source": []
  },
  {
   "cell_type": "code",
   "execution_count": null,
   "metadata": {},
   "outputs": [],
   "source": [
    "X1 = house_data[['sqft_living', 'bedrooms', 'bathrooms']]\n",
    "X2 = house_data[['lat', 'sqft_living']]\n",
    "y = house_data['log_price']"
   ]
  },
  {
   "cell_type": "code",
   "execution_count": null,
   "metadata": {},
   "outputs": [],
   "source": [
    "test_median_err(X1,y)"
   ]
  },
  {
   "cell_type": "code",
   "execution_count": null,
   "metadata": {},
   "outputs": [],
   "source": [
    "test_median_err(X2,y)"
   ]
  },
  {
   "cell_type": "code",
   "execution_count": null,
   "metadata": {},
   "outputs": [],
   "source": [
    "X3 = house_data[['distance_from_downtown_sea', 'sqft_living']]\n",
    "test_median_err(X3, y)"
   ]
  },
  {
   "cell_type": "code",
   "execution_count": null,
   "metadata": {},
   "outputs": [],
   "source": [
    "X4 = house_data[['sqft_living', 'lat']]\n",
    "test_median_err(X4, y)"
   ]
  },
  {
   "cell_type": "code",
   "execution_count": null,
   "metadata": {},
   "outputs": [],
   "source": [
    "X5 = house_data[['sqft_living', 'lat', 'bathrooms']]\n",
    "test_median_err(X5, y)"
   ]
  },
  {
   "cell_type": "code",
   "execution_count": null,
   "metadata": {},
   "outputs": [],
   "source": [
    "X6 = house_data[['lat', 'bathrooms']]\n",
    "test_median_err(X6, y)"
   ]
  },
  {
   "cell_type": "code",
   "execution_count": null,
   "metadata": {},
   "outputs": [],
   "source": [
    "X7 = house_data[['sqft_living', 'distance_from_downtown_sea']]\n",
    "test_median_err(X7, y)"
   ]
  },
  {
   "cell_type": "code",
   "execution_count": null,
   "metadata": {},
   "outputs": [],
   "source": [
    "X8 = house_data[['sqft_living', 'lat']]\n",
    "test_median_err(X4, y)"
   ]
  },
  {
   "cell_type": "code",
   "execution_count": null,
   "metadata": {},
   "outputs": [],
   "source": [
    "X9 = house_data[['long', 'lat']]\n",
    "test_median_err(X9, y)"
   ]
  },
  {
   "cell_type": "code",
   "execution_count": null,
   "metadata": {},
   "outputs": [],
   "source": [
    "target = house_data_90['log_price']\n",
    "\n",
    "for i in range(len(sorted_predictor_mae)):\n",
    "    predictors = []\n",
    "    for predictor in sorted_predictor_mae[:i+1]:\n",
    "        name = predictor[0]\n",
    "        predictors.append(house_data_90[name]) \n",
    "    print(predictors, target)\n",
    "        #    test_median_err(predictors, target)"
   ]
  },
  {
   "cell_type": "code",
   "execution_count": null,
   "metadata": {},
   "outputs": [],
   "source": [
    "kf = KFold(n_splits=2)\n",
    "kf.get_n_splits(X3)"
   ]
  },
  {
   "cell_type": "code",
   "execution_count": null,
   "metadata": {},
   "outputs": [],
   "source": [
    "for train_index, test_index in kf.split(X):\n",
    "    print(\"TRAIN:\", train_index, \"TEST:\", test_index)\n",
    "    X_train, X_test = X[train_index], X[test_index]\n",
    "    y_train, y_test = y[train_index], y[test_index]\n",
    "    \n",
    "    linreg = LinearRegression()\n",
    "    test_err = []\n",
    "    linreg.fit(X_train, y_train)\n",
    "    y_hat_test = linreg.predict(X_test)\n",
    "    invert_y_hat_test = np.exp(y_hat_test)\n",
    "    invert_y_test = np.exp(y_test)\n",
    "    test_err.append(median_absolute_error(invert_y_test, invert_y_hat_test))\n",
    "        \n",
    "    print(np.mean(test_err))"
   ]
  },
  {
   "cell_type": "code",
   "execution_count": null,
   "metadata": {},
   "outputs": [],
   "source": []
  }
 ],
 "metadata": {
  "kernelspec": {
   "display_name": "Python 3",
   "language": "python",
   "name": "python3"
  },
  "language_info": {
   "codemirror_mode": {
    "name": "ipython",
    "version": 3
   },
   "file_extension": ".py",
   "mimetype": "text/x-python",
   "name": "python",
   "nbconvert_exporter": "python",
   "pygments_lexer": "ipython3",
   "version": "3.7.1"
  }
 },
 "nbformat": 4,
 "nbformat_minor": 2
}

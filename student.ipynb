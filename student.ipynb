{
 "cells": [
  {
   "cell_type": "markdown",
   "metadata": {},
   "source": [
    "## Mod 1 Final Project Submission\n",
    "\n",
    "* Students' names: Kayli Leung and Alec Morgan\n",
    "* Students' pace: Full time\n",
    "* Scheduled project review date/time: 04/19/2019 12:30 PM \n",
    "* Instructors' names: Miles Erickson, Greg Damico\n",
    "* Blog post URL: TODO(Alec): Write blog."
   ]
  },
  {
   "cell_type": "markdown",
   "metadata": {},
   "source": [
    "## BUSINESS UNDERSTANDING"
   ]
  },
  {
   "cell_type": "markdown",
   "metadata": {},
   "source": [
    "## Project Goals\n",
    "\n",
    "For this project, we imagine ourselves as employees of a company such as Redfin or Zillow. Our goal is to build the most accurate price-estimating model possible, which in turn will help with our site's user retention. To this end we ask three questions:\n",
    "\n",
    "* How accurately can we predict prices?\n",
    "* How *consistently* can we maintain that accuracy?\n",
    "* Can this accuracy be improved by targeting a majority percentile and thus ignoring outliers?\n",
    "\n",
    "To this end we employ the CRISP-DM methodology: business understanding, data understanding, data preparation, modeling, evaluation, and deployment. "
   ]
  },
  {
   "cell_type": "markdown",
   "metadata": {},
   "source": [
    "## Import necessary modules"
   ]
  },
  {
   "cell_type": "code",
   "execution_count": 1,
   "metadata": {},
   "outputs": [],
   "source": [
    "import pandas as pd\n",
    "import seaborn as sns\n",
    "import matplotlib.pyplot as plt\n",
    "import statsmodels.api as sm\n",
    "from statsmodels.formula.api import ols\n",
    "import numpy as np\n",
    "from sklearn.linear_model import LinearRegression\n",
    "from sklearn.metrics import mean_squared_error, median_absolute_error\n",
    "from sklearn.model_selection import train_test_split\n",
    "from sklearn.model_selection import KFold\n",
    "from sklearn.feature_selection import RFE\n",
    "from sklearn.preprocessing import StandardScaler\n",
    "from haversine import haversine\n",
    "import scipy.stats as stats"
   ]
  },
  {
   "cell_type": "markdown",
   "metadata": {},
   "source": [
    "### Loading the King County home sales data set\n",
    "\n",
    "Here we load our data set: some 21,597 records of home sales in King County, WA from 2014 and 2015. There are 21 pieces of information in each record, each of which is explained briefly in `column_names.md`. A more detailed glossary of these and many more terms can be found at: https://info.kingcounty.gov/assessor/esales/Glossary.aspx?type=r"
   ]
  },
  {
   "cell_type": "code",
   "execution_count": 2,
   "metadata": {},
   "outputs": [],
   "source": [
    "house_data = pd.read_csv('kc_house_data.csv')"
   ]
  },
  {
   "cell_type": "markdown",
   "metadata": {},
   "source": [
    "Our dataset is only 2.5 MBs, so we choose not to subsample it (since this step would only be necessary if it were too large to process efficiently in the first place). "
   ]
  },
  {
   "cell_type": "code",
   "execution_count": 3,
   "metadata": {},
   "outputs": [
    {
     "name": "stdout",
     "output_type": "stream",
     "text": [
      "<class 'pandas.core.frame.DataFrame'>\n",
      "RangeIndex: 21597 entries, 0 to 21596\n",
      "Data columns (total 21 columns):\n",
      "id               21597 non-null int64\n",
      "date             21597 non-null object\n",
      "price            21597 non-null float64\n",
      "bedrooms         21597 non-null int64\n",
      "bathrooms        21597 non-null float64\n",
      "sqft_living      21597 non-null int64\n",
      "sqft_lot         21597 non-null int64\n",
      "floors           21597 non-null float64\n",
      "waterfront       19221 non-null float64\n",
      "view             21534 non-null float64\n",
      "condition        21597 non-null int64\n",
      "grade            21597 non-null int64\n",
      "sqft_above       21597 non-null int64\n",
      "sqft_basement    21597 non-null object\n",
      "yr_built         21597 non-null int64\n",
      "yr_renovated     17755 non-null float64\n",
      "zipcode          21597 non-null int64\n",
      "lat              21597 non-null float64\n",
      "long             21597 non-null float64\n",
      "sqft_living15    21597 non-null int64\n",
      "sqft_lot15       21597 non-null int64\n",
      "dtypes: float64(8), int64(11), object(2)\n",
      "memory usage: 3.5+ MB\n"
     ]
    }
   ],
   "source": [
    "house_data.info()"
   ]
  },
  {
   "cell_type": "markdown",
   "metadata": {},
   "source": [
    "## DATA UNDERSTANDING/PREPARATION\n",
    "\n",
    "Here we remove and reformat invalid data entries so that we can have data our model is capable of working with. We also choose to remove some data features entirely due to their high collinearities--that is, being similar to each other as well as to the variable we're trying to predict (price). This way we prevent our model from erroneously believing, for example, that `zipcode` and `latitude` count twice when considering a house's value.\n",
    "\n",
    "Before we dive in, lets take a quick look at a heatmap showing the correlations between our variables--this is what we're up against, and as we close this section we'll revisit this view to see how our work has improved the situation."
   ]
  },
  {
   "cell_type": "code",
   "execution_count": 4,
   "metadata": {},
   "outputs": [
    {
     "data": {
      "image/png": "[encoded data removed]",
      "text/plain": [
       "<Figure size 432x288 with 2 Axes>"
      ]
     },
     "metadata": {
      "needs_background": "light"
     },
     "output_type": "display_data"
    }
   ],
   "source": [
    "color_map = sns.diverging_palette(220, 10, as_cmap=True)\n",
    "_ = sns.heatmap(house_data.corr(), cmap=color_map)"
   ]
  },
  {
   "cell_type": "code",
   "execution_count": 5,
   "metadata": {},
   "outputs": [
    {
     "data": {
      "text/plain": [
       "0.0      12826\n",
       "?          454\n",
       "600.0      217\n",
       "500.0      209\n",
       "700.0      208\n",
       "Name: sqft_basement, dtype: int64"
      ]
     },
     "execution_count": 5,
     "metadata": {},
     "output_type": "execute_result"
    }
   ],
   "source": [
    "house_data['sqft_basement'].value_counts().head()"
   ]
  },
  {
   "cell_type": "markdown",
   "metadata": {},
   "source": [
    "454 entries list basement size as `?`. However, these same entries contain `sqft_living` and `sqft_above` values as well, and these often do not match. For columns in which `sqft_basement` is `?`, we reassign `sqft_basement` to `sqft_living` minus `sqft_above`. "
   ]
  },
  {
   "cell_type": "code",
   "execution_count": 6,
   "metadata": {},
   "outputs": [
    {
     "data": {
      "text/html": [
       "<div>\n",
       "<style scoped>\n",
       "    .dataframe tbody tr th:only-of-type {\n",
       "        vertical-align: middle;\n",
       "    }\n",
       "\n",
       "    .dataframe tbody tr th {\n",
       "        vertical-align: top;\n",
       "    }\n",
       "\n",
       "    .dataframe thead th {\n",
       "        text-align: right;\n",
       "    }\n",
       "</style>\n",
       "<table border=\"1\" class=\"dataframe\">\n",
       "  <thead>\n",
       "    <tr style=\"text-align: right;\">\n",
       "      <th></th>\n",
       "      <th>0</th>\n",
       "      <th>1</th>\n",
       "      <th>2</th>\n",
       "      <th>3</th>\n",
       "      <th>4</th>\n",
       "      <th>5</th>\n",
       "      <th>6</th>\n",
       "      <th>7</th>\n",
       "      <th>8</th>\n",
       "      <th>9</th>\n",
       "    </tr>\n",
       "  </thead>\n",
       "  <tbody>\n",
       "    <tr>\n",
       "      <th>sqft_basement</th>\n",
       "      <td>0.0</td>\n",
       "      <td>400.0</td>\n",
       "      <td>0.0</td>\n",
       "      <td>910.0</td>\n",
       "      <td>0.0</td>\n",
       "      <td>1530.0</td>\n",
       "      <td>0</td>\n",
       "      <td>0.0</td>\n",
       "      <td>730.0</td>\n",
       "      <td>0.0</td>\n",
       "    </tr>\n",
       "    <tr>\n",
       "      <th>sqft_living</th>\n",
       "      <td>1180</td>\n",
       "      <td>2570</td>\n",
       "      <td>770</td>\n",
       "      <td>1960</td>\n",
       "      <td>1680</td>\n",
       "      <td>5420</td>\n",
       "      <td>1715</td>\n",
       "      <td>1060</td>\n",
       "      <td>1780</td>\n",
       "      <td>1890</td>\n",
       "    </tr>\n",
       "    <tr>\n",
       "      <th>sqft_above</th>\n",
       "      <td>1180</td>\n",
       "      <td>2170</td>\n",
       "      <td>770</td>\n",
       "      <td>1050</td>\n",
       "      <td>1680</td>\n",
       "      <td>3890</td>\n",
       "      <td>1715</td>\n",
       "      <td>1060</td>\n",
       "      <td>1050</td>\n",
       "      <td>1890</td>\n",
       "    </tr>\n",
       "  </tbody>\n",
       "</table>\n",
       "</div>"
      ],
      "text/plain": [
       "                  0      1    2      3     4       5     6     7      8     9\n",
       "sqft_basement   0.0  400.0  0.0  910.0   0.0  1530.0     0   0.0  730.0   0.0\n",
       "sqft_living    1180   2570  770   1960  1680    5420  1715  1060   1780  1890\n",
       "sqft_above     1180   2170  770   1050  1680    3890  1715  1060   1050  1890"
      ]
     },
     "execution_count": 6,
     "metadata": {},
     "output_type": "execute_result"
    }
   ],
   "source": [
    "mask = house_data['sqft_basement'] == '?'\n",
    "house_data.loc[mask, 'sqft_basement'] = (house_data['sqft_living'] - house_data['sqft_above'])\n",
    "house_data[['sqft_basement', 'sqft_living', 'sqft_above']].head(10).T"
   ]
  },
  {
   "cell_type": "code",
   "execution_count": 7,
   "metadata": {},
   "outputs": [
    {
     "data": {
      "text/plain": [
       "63"
      ]
     },
     "execution_count": 7,
     "metadata": {},
     "output_type": "execute_result"
    }
   ],
   "source": [
    "house_data['view'].isna().sum()"
   ]
  },
  {
   "cell_type": "markdown",
   "metadata": {},
   "source": [
    "We have 63 `NaN` values for `view`. Since this is still not a large proportion of our observations, we choose to discard the afflicted rows. Our total entry count drops from 21,597 to 21,534. "
   ]
  },
  {
   "cell_type": "code",
   "execution_count": 8,
   "metadata": {},
   "outputs": [
    {
     "data": {
      "text/plain": [
       "0"
      ]
     },
     "execution_count": 8,
     "metadata": {},
     "output_type": "execute_result"
    }
   ],
   "source": [
    "house_data = house_data.dropna(subset=['view'])\n",
    "house_data['view'].isna().sum()"
   ]
  },
  {
   "cell_type": "code",
   "execution_count": 9,
   "metadata": {},
   "outputs": [
    {
     "data": {
      "text/plain": [
       "0.0       16961\n",
       "2014.0       73\n",
       "2003.0       31\n",
       "2013.0       31\n",
       "2007.0       30\n",
       "Name: yr_renovated, dtype: int64"
      ]
     },
     "execution_count": 9,
     "metadata": {},
     "output_type": "execute_result"
    }
   ],
   "source": [
    "house_data['yr_renovated'].value_counts().head()"
   ]
  },
  {
   "cell_type": "markdown",
   "metadata": {},
   "source": [
    "16,961 of our entries have `yr_renovated` values of `0`. Fixing that would require making unsafe assumptions, so we elect to drop this column entirely instead. "
   ]
  },
  {
   "cell_type": "code",
   "execution_count": 10,
   "metadata": {},
   "outputs": [],
   "source": [
    "house_data = house_data.drop('yr_renovated', axis=1)"
   ]
  },
  {
   "cell_type": "markdown",
   "metadata": {},
   "source": [
    "Due to their high collinearity with other variables, we choose to drop `zipcode`, `sqft_above`, and `sqft_living15`. Furthermore, we dropped `grade` because the documentation of the column showed that part of the grading system includes square footage as well as number of bathrooms, which suggests high collinearity (as reflected in the numbers)."
   ]
  },
  {
   "cell_type": "code",
   "execution_count": 11,
   "metadata": {},
   "outputs": [],
   "source": [
    "house_data = house_data.drop('zipcode', axis=1)\n",
    "house_data = house_data.drop('sqft_above', axis=1)\n",
    "house_data = house_data.drop('sqft_living15', axis=1)\n",
    "house_data = house_data.drop('grade', axis=1)"
   ]
  },
  {
   "cell_type": "code",
   "execution_count": 12,
   "metadata": {},
   "outputs": [
    {
     "name": "stdout",
     "output_type": "stream",
     "text": [
      "<class 'pandas.core.frame.DataFrame'>\n",
      "Int64Index: 21534 entries, 0 to 21596\n",
      "Data columns (total 16 columns):\n",
      "id               21534 non-null int64\n",
      "date             21534 non-null object\n",
      "price            21534 non-null float64\n",
      "bedrooms         21534 non-null int64\n",
      "bathrooms        21534 non-null float64\n",
      "sqft_living      21534 non-null int64\n",
      "sqft_lot         21534 non-null int64\n",
      "floors           21534 non-null float64\n",
      "waterfront       19164 non-null float64\n",
      "view             21534 non-null float64\n",
      "condition        21534 non-null int64\n",
      "sqft_basement    21534 non-null object\n",
      "yr_built         21534 non-null int64\n",
      "lat              21534 non-null float64\n",
      "long             21534 non-null float64\n",
      "sqft_lot15       21534 non-null int64\n",
      "dtypes: float64(7), int64(7), object(2)\n",
      "memory usage: 2.8+ MB\n"
     ]
    }
   ],
   "source": [
    "house_data.info()"
   ]
  },
  {
   "cell_type": "markdown",
   "metadata": {},
   "source": [
    "`waterfront` contains 2,370 `Null` values. We don't want to drop 2,370 entries, so we elect to replace these with `0` instead, since `0` is the most frequently occurring value for `waterfront`."
   ]
  },
  {
   "cell_type": "code",
   "execution_count": 13,
   "metadata": {},
   "outputs": [],
   "source": [
    "house_data = house_data.fillna(0)"
   ]
  },
  {
   "cell_type": "markdown",
   "metadata": {},
   "source": [
    "Since `price` is our target variable, we want it to have a normal distribution--if not, it will be difficult to linearly model."
   ]
  },
  {
   "cell_type": "code",
   "execution_count": 14,
   "metadata": {},
   "outputs": [
    {
     "data": {
      "image/png": "[encoded data removed]",
      "text/plain": [
       "<Figure size 648x648 with 1 Axes>"
      ]
     },
     "metadata": {
      "needs_background": "light"
     },
     "output_type": "display_data"
    }
   ],
   "source": [
    "plt.figure(figsize=(9,9))\n",
    "plt.ylim(0, 8000)\n",
    "plt.xlabel('Price')\n",
    "plt.ylabel('Number of Sales')\n",
    "plt.title('Distribution of House Sale Prices')\n",
    "_ = plt.hist(house_data['price'], bins=50)"
   ]
  },
  {
   "cell_type": "markdown",
   "metadata": {},
   "source": [
    "Price is not normally distributed. However, a log transformation will rectify that."
   ]
  },
  {
   "cell_type": "code",
   "execution_count": 15,
   "metadata": {},
   "outputs": [],
   "source": [
    "house_data['log_price'] = house_data['price'].apply(lambda x: np.log(x))"
   ]
  },
  {
   "cell_type": "code",
   "execution_count": 16,
   "metadata": {},
   "outputs": [
    {
     "data": {
      "image/png": "[encoded data removed]",
      "text/plain": [
       "<Figure size 648x648 with 1 Axes>"
      ]
     },
     "metadata": {
      "needs_background": "light"
     },
     "output_type": "display_data"
    }
   ],
   "source": [
    "plt.figure(figsize=(9,9))\n",
    "plt.ylim(0, 8000)\n",
    "plt.xlabel('Price')\n",
    "plt.ylabel('Number of Sales')\n",
    "plt.title('Distribution of House Sale Prices (Prices Scaled Logarithmically)')\n",
    "_ = plt.hist(house_data['log_price'], bins=50)"
   ]
  },
  {
   "cell_type": "markdown",
   "metadata": {},
   "source": [
    "Okay, we just scrubbed a lot of data--how do the remaining columns correlate with each other?"
   ]
  },
  {
   "cell_type": "code",
   "execution_count": 17,
   "metadata": {},
   "outputs": [
    {
     "data": {
      "image/png": "[encoded data removed]",
      "text/plain": [
       "<Figure size 432x288 with 2 Axes>"
      ]
     },
     "metadata": {
      "needs_background": "light"
     },
     "output_type": "display_data"
    }
   ],
   "source": [
    "color_map = sns.diverging_palette(220, 10, as_cmap=True)\n",
    "_ = sns.heatmap(house_data.corr(), cmap=color_map)"
   ]
  },
  {
   "cell_type": "markdown",
   "metadata": {},
   "source": [
    "Most of our highly collinear variables are gone, great! But our strongest remaining predictors (e.g. `bathrooms`, `bedrooms`, and `sqft_living`) still have high collinearity with each other. In spite of this we decide to leave them, and resolve to test our model carefully to get the best accuracy we can without too much overfitting."
   ]
  },
  {
   "cell_type": "markdown",
   "metadata": {},
   "source": [
    "At this point, it occurs to us that outliers in price may skew the rest of our predictions. We decide it's in the best interests of our site to predict property values more accurately for the majority of potential users, and to that end we subset our data to the bottom 90th, 95th, and 100th percentiles of price here. Later on we will test our models on all of these, concluding that with the 90th percentile subset we get significantly improved accuracy without noteworthy issues in model bias. "
   ]
  },
  {
   "cell_type": "code",
   "execution_count": 18,
   "metadata": {},
   "outputs": [],
   "source": [
    "price_90th_perc = np.percentile(house_data['log_price'], 90)\n",
    "house_data_90 = house_data.drop(house_data[house_data['log_price'] > price_90th_perc].index)\n",
    "\n",
    "price_95th_perc = np.percentile(house_data['log_price'], 95)\n",
    "house_data_95 = house_data.drop(house_data[house_data['log_price'] > price_95th_perc].index)\n",
    "\n",
    "house_data_100 = house_data"
   ]
  },
  {
   "cell_type": "code",
   "execution_count": 19,
   "metadata": {},
   "outputs": [
    {
     "data": {
      "image/png": "[encoded data removed]",
      "text/plain": [
       "<Figure size 648x648 with 1 Axes>"
      ]
     },
     "metadata": {
      "needs_background": "light"
     },
     "output_type": "display_data"
    }
   ],
   "source": [
    "plt.figure(figsize=(9, 9))\n",
    "plt.title('Price vs Square Feet')\n",
    "plt.xlim(0, 14000)\n",
    "plt.ylim(0, 8000)\n",
    "plt.xlabel('Square Feet')\n",
    "plt.ylabel('Price (in $1000s)')\n",
    "_ = plt.scatter(house_data['sqft_living'], house_data['price']/1000, alpha=0.1, label='100th percentile of price')\n",
    "_ = plt.scatter(house_data_95['sqft_living'], house_data_95['price']/1000, alpha=0.1, label='95th percentile of price')\n",
    "_ = plt.scatter(house_data_90['sqft_living'], house_data_90['price']/1000, alpha=0.1, label='90th percentile of price')\n",
    "plt.legend()\n",
    "plt.show()"
   ]
  },
  {
   "cell_type": "markdown",
   "metadata": {},
   "source": [
    "We also decided to engineer a distance from downtown Seattle feature, `distance_from_downtown_sea`, as we expect this to be a very strong predictor of house value. "
   ]
  },
  {
   "cell_type": "code",
   "execution_count": 55,
   "metadata": {},
   "outputs": [],
   "source": [
    "downtown_sea = (47.609795, -122.337173) #(lat, lon)\n",
    "\n",
    "house_data_90['lat_long'] = list(zip(house_data_90['lat'], house_data_90['long']))\n",
    "house_data_90['distance_from_downtown_sea'] = house_data_90['lat_long'].apply(lambda x: haversine(downtown_sea, x, unit='mi'))\n",
    "house_data['lat_long'] = list(zip(house_data['lat'], house_data['long']))\n",
    "house_data['distance_from_downtown_sea'] = house_data['lat_long'].apply(lambda x: haversine(downtown_sea, x, unit='mi'))"
   ]
  },
  {
   "cell_type": "markdown",
   "metadata": {},
   "source": [
    "What do the distributions of our 90th percentile features look like now?"
   ]
  },
  {
   "cell_type": "code",
   "execution_count": 21,
   "metadata": {},
   "outputs": [
    {
     "data": {
      "image/png": "[encoded data removed]",
      "text/plain": [
       "<Figure size 1080x1080 with 16 Axes>"
      ]
     },
     "metadata": {
      "needs_background": "light"
     },
     "output_type": "display_data"
    }
   ],
   "source": [
    "_ = house_data_90.hist(figsize=(15, 15), bins=50)"
   ]
  },
  {
   "cell_type": "markdown",
   "metadata": {},
   "source": [
    "There's a lot going on here. None of these features have a normal distribution, and only some of them come close. We would certainly want to apply some normalizing transformations to these so that they could more accurately fit the assumptions made by linear regression. However, this is not feasible with the time constraints of this project, so we decide that this is good enough and we'll analyze this data in the state it's in now. "
   ]
  },
  {
   "cell_type": "markdown",
   "metadata": {},
   "source": [
    "## MODELING\n",
    "\n",
    "Here we proceed to train and test a wide variety of models with a laser focus on our two main goals: accuracy and consistency."
   ]
  },
  {
   "cell_type": "markdown",
   "metadata": {},
   "source": [
    "### Simple Linear Regression\n",
    "\n",
    "We start by running some simple linear regressions to see how individual features (e.g. square footage, number of bedrooms, etc) predict price. This will help us later when choosing features to use in conjunction for predicting price."
   ]
  },
  {
   "cell_type": "code",
   "execution_count": 22,
   "metadata": {},
   "outputs": [],
   "source": [
    "# Setting a seed for reproducibility purposes. \n",
    "np.random.seed(2019)"
   ]
  },
  {
   "cell_type": "code",
   "execution_count": 23,
   "metadata": {},
   "outputs": [],
   "source": [
    "# get a simple linear regression model for price and sqft_living\n",
    "x_90 = np.array(house_data_90['sqft_living']).reshape(-1,1)\n",
    "y_90 = np.array(house_data_90['log_price'])\n",
    "\n",
    "x_95 = np.array(house_data_95['sqft_living'])\n",
    "y_95 = np.array(house_data_95['log_price'])\n",
    "\n",
    "x_100 = np.array(house_data_100['sqft_living'])\n",
    "y_100 = np.array(house_data_100['log_price'])"
   ]
  },
  {
   "cell_type": "code",
   "execution_count": 24,
   "metadata": {},
   "outputs": [],
   "source": [
    "def simple_linear_model(predictor, target, df):\n",
    "    \"\"\"Provides model the simple linear regression model between a predictor and target\"\"\"\n",
    "    x = predictor\n",
    "    y = target\n",
    "    formula = 'y~x'\n",
    "    model = ols(formula=formula, data=df).fit()\n",
    "    return model.summary()"
   ]
  },
  {
   "cell_type": "markdown",
   "metadata": {},
   "source": [
    "Here we demonstrate that all of our simple linear regression models have p-values of under 0.05, thus demonstrating statistical significance. "
   ]
  },
  {
   "cell_type": "code",
   "execution_count": 25,
   "metadata": {},
   "outputs": [
    {
     "data": {
      "text/html": [
       "<table class=\"simpletable\">\n",
       "<caption>OLS Regression Results</caption>\n",
       "<tr>\n",
       "  <th>Dep. Variable:</th>            <td>y</td>        <th>  R-squared:         </th> <td>   0.312</td> \n",
       "</tr>\n",
       "<tr>\n",
       "  <th>Model:</th>                   <td>OLS</td>       <th>  Adj. R-squared:    </th> <td>   0.312</td> \n",
       "</tr>\n",
       "<tr>\n",
       "  <th>Method:</th>             <td>Least Squares</td>  <th>  F-statistic:       </th> <td>   8791.</td> \n",
       "</tr>\n",
       "<tr>\n",
       "  <th>Date:</th>             <td>Fri, 19 Apr 2019</td> <th>  Prob (F-statistic):</th>  <td>  0.00</td>  \n",
       "</tr>\n",
       "<tr>\n",
       "  <th>Time:</th>                 <td>09:42:16</td>     <th>  Log-Likelihood:    </th> <td> -6843.5</td> \n",
       "</tr>\n",
       "<tr>\n",
       "  <th>No. Observations:</th>      <td> 19381</td>      <th>  AIC:               </th> <td>1.369e+04</td>\n",
       "</tr>\n",
       "<tr>\n",
       "  <th>Df Residuals:</th>          <td> 19379</td>      <th>  BIC:               </th> <td>1.371e+04</td>\n",
       "</tr>\n",
       "<tr>\n",
       "  <th>Df Model:</th>              <td>     1</td>      <th>                     </th>     <td> </td>    \n",
       "</tr>\n",
       "<tr>\n",
       "  <th>Covariance Type:</th>      <td>nonrobust</td>    <th>                     </th>     <td> </td>    \n",
       "</tr>\n",
       "</table>\n",
       "<table class=\"simpletable\">\n",
       "<tr>\n",
       "      <td></td>         <th>coef</th>     <th>std err</th>      <th>t</th>      <th>P>|t|</th>  <th>[0.025</th>    <th>0.975]</th>  \n",
       "</tr>\n",
       "<tr>\n",
       "  <th>Intercept</th> <td>   12.3209</td> <td>    0.007</td> <td> 1754.994</td> <td> 0.000</td> <td>   12.307</td> <td>   12.335</td>\n",
       "</tr>\n",
       "<tr>\n",
       "  <th>x</th>         <td>    0.0003</td> <td> 3.43e-06</td> <td>   93.762</td> <td> 0.000</td> <td>    0.000</td> <td>    0.000</td>\n",
       "</tr>\n",
       "</table>\n",
       "<table class=\"simpletable\">\n",
       "<tr>\n",
       "  <th>Omnibus:</th>       <td>331.033</td> <th>  Durbin-Watson:     </th> <td>   1.979</td>\n",
       "</tr>\n",
       "<tr>\n",
       "  <th>Prob(Omnibus):</th> <td> 0.000</td>  <th>  Jarque-Bera (JB):  </th> <td> 254.090</td>\n",
       "</tr>\n",
       "<tr>\n",
       "  <th>Skew:</th>          <td>-0.194</td>  <th>  Prob(JB):          </th> <td>6.68e-56</td>\n",
       "</tr>\n",
       "<tr>\n",
       "  <th>Kurtosis:</th>      <td> 2.596</td>  <th>  Cond. No.          </th> <td>5.81e+03</td>\n",
       "</tr>\n",
       "</table><br/><br/>Warnings:<br/>[1] Standard Errors assume that the covariance matrix of the errors is correctly specified.<br/>[2] The condition number is large, 5.81e+03. This might indicate that there are<br/>strong multicollinearity or other numerical problems."
      ],
      "text/plain": [
       "<class 'statsmodels.iolib.summary.Summary'>\n",
       "\"\"\"\n",
       "                            OLS Regression Results                            \n",
       "==============================================================================\n",
       "Dep. Variable:                      y   R-squared:                       0.312\n",
       "Model:                            OLS   Adj. R-squared:                  0.312\n",
       "Method:                 Least Squares   F-statistic:                     8791.\n",
       "Date:                Fri, 19 Apr 2019   Prob (F-statistic):               0.00\n",
       "Time:                        09:42:16   Log-Likelihood:                -6843.5\n",
       "No. Observations:               19381   AIC:                         1.369e+04\n",
       "Df Residuals:                   19379   BIC:                         1.371e+04\n",
       "Df Model:                           1                                         \n",
       "Covariance Type:            nonrobust                                         \n",
       "==============================================================================\n",
       "                 coef    std err          t      P>|t|      [0.025      0.975]\n",
       "------------------------------------------------------------------------------\n",
       "Intercept     12.3209      0.007   1754.994      0.000      12.307      12.335\n",
       "x              0.0003   3.43e-06     93.762      0.000       0.000       0.000\n",
       "==============================================================================\n",
       "Omnibus:                      331.033   Durbin-Watson:                   1.979\n",
       "Prob(Omnibus):                  0.000   Jarque-Bera (JB):              254.090\n",
       "Skew:                          -0.194   Prob(JB):                     6.68e-56\n",
       "Kurtosis:                       2.596   Cond. No.                     5.81e+03\n",
       "==============================================================================\n",
       "\n",
       "Warnings:\n",
       "[1] Standard Errors assume that the covariance matrix of the errors is correctly specified.\n",
       "[2] The condition number is large, 5.81e+03. This might indicate that there are\n",
       "strong multicollinearity or other numerical problems.\n",
       "\"\"\""
      ]
     },
     "execution_count": 25,
     "metadata": {},
     "output_type": "execute_result"
    }
   ],
   "source": [
    "simple_linear_model(x_90, y_90, house_data_90)"
   ]
  },
  {
   "cell_type": "code",
   "execution_count": 26,
   "metadata": {},
   "outputs": [
    {
     "data": {
      "text/html": [
       "<table class=\"simpletable\">\n",
       "<caption>OLS Regression Results</caption>\n",
       "<tr>\n",
       "  <th>Dep. Variable:</th>            <td>y</td>        <th>  R-squared:         </th> <td>   0.372</td> \n",
       "</tr>\n",
       "<tr>\n",
       "  <th>Model:</th>                   <td>OLS</td>       <th>  Adj. R-squared:    </th> <td>   0.372</td> \n",
       "</tr>\n",
       "<tr>\n",
       "  <th>Method:</th>             <td>Least Squares</td>  <th>  F-statistic:       </th> <td>1.210e+04</td>\n",
       "</tr>\n",
       "<tr>\n",
       "  <th>Date:</th>             <td>Fri, 19 Apr 2019</td> <th>  Prob (F-statistic):</th>  <td>  0.00</td>  \n",
       "</tr>\n",
       "<tr>\n",
       "  <th>Time:</th>                 <td>09:42:16</td>     <th>  Log-Likelihood:    </th> <td> -7898.6</td> \n",
       "</tr>\n",
       "<tr>\n",
       "  <th>No. Observations:</th>      <td> 20472</td>      <th>  AIC:               </th> <td>1.580e+04</td>\n",
       "</tr>\n",
       "<tr>\n",
       "  <th>Df Residuals:</th>          <td> 20470</td>      <th>  BIC:               </th> <td>1.582e+04</td>\n",
       "</tr>\n",
       "<tr>\n",
       "  <th>Df Model:</th>              <td>     1</td>      <th>                     </th>     <td> </td>    \n",
       "</tr>\n",
       "<tr>\n",
       "  <th>Covariance Type:</th>      <td>nonrobust</td>    <th>                     </th>     <td> </td>    \n",
       "</tr>\n",
       "</table>\n",
       "<table class=\"simpletable\">\n",
       "<tr>\n",
       "      <td></td>         <th>coef</th>     <th>std err</th>      <th>t</th>      <th>P>|t|</th>  <th>[0.025</th>    <th>0.975]</th>  \n",
       "</tr>\n",
       "<tr>\n",
       "  <th>Intercept</th> <td>   12.2907</td> <td>    0.007</td> <td> 1815.924</td> <td> 0.000</td> <td>   12.277</td> <td>   12.304</td>\n",
       "</tr>\n",
       "<tr>\n",
       "  <th>x</th>         <td>    0.0003</td> <td> 3.18e-06</td> <td>  110.012</td> <td> 0.000</td> <td>    0.000</td> <td>    0.000</td>\n",
       "</tr>\n",
       "</table>\n",
       "<table class=\"simpletable\">\n",
       "<tr>\n",
       "  <th>Omnibus:</th>       <td>218.199</td> <th>  Durbin-Watson:     </th> <td>   1.970</td>\n",
       "</tr>\n",
       "<tr>\n",
       "  <th>Prob(Omnibus):</th> <td> 0.000</td>  <th>  Jarque-Bera (JB):  </th> <td> 161.214</td>\n",
       "</tr>\n",
       "<tr>\n",
       "  <th>Skew:</th>          <td>-0.120</td>  <th>  Prob(JB):          </th> <td>9.83e-36</td>\n",
       "</tr>\n",
       "<tr>\n",
       "  <th>Kurtosis:</th>      <td> 2.637</td>  <th>  Cond. No.          </th> <td>5.80e+03</td>\n",
       "</tr>\n",
       "</table><br/><br/>Warnings:<br/>[1] Standard Errors assume that the covariance matrix of the errors is correctly specified.<br/>[2] The condition number is large, 5.8e+03. This might indicate that there are<br/>strong multicollinearity or other numerical problems."
      ],
      "text/plain": [
       "<class 'statsmodels.iolib.summary.Summary'>\n",
       "\"\"\"\n",
       "                            OLS Regression Results                            \n",
       "==============================================================================\n",
       "Dep. Variable:                      y   R-squared:                       0.372\n",
       "Model:                            OLS   Adj. R-squared:                  0.372\n",
       "Method:                 Least Squares   F-statistic:                 1.210e+04\n",
       "Date:                Fri, 19 Apr 2019   Prob (F-statistic):               0.00\n",
       "Time:                        09:42:16   Log-Likelihood:                -7898.6\n",
       "No. Observations:               20472   AIC:                         1.580e+04\n",
       "Df Residuals:                   20470   BIC:                         1.582e+04\n",
       "Df Model:                           1                                         \n",
       "Covariance Type:            nonrobust                                         \n",
       "==============================================================================\n",
       "                 coef    std err          t      P>|t|      [0.025      0.975]\n",
       "------------------------------------------------------------------------------\n",
       "Intercept     12.2907      0.007   1815.924      0.000      12.277      12.304\n",
       "x              0.0003   3.18e-06    110.012      0.000       0.000       0.000\n",
       "==============================================================================\n",
       "Omnibus:                      218.199   Durbin-Watson:                   1.970\n",
       "Prob(Omnibus):                  0.000   Jarque-Bera (JB):              161.214\n",
       "Skew:                          -0.120   Prob(JB):                     9.83e-36\n",
       "Kurtosis:                       2.637   Cond. No.                     5.80e+03\n",
       "==============================================================================\n",
       "\n",
       "Warnings:\n",
       "[1] Standard Errors assume that the covariance matrix of the errors is correctly specified.\n",
       "[2] The condition number is large, 5.8e+03. This might indicate that there are\n",
       "strong multicollinearity or other numerical problems.\n",
       "\"\"\""
      ]
     },
     "execution_count": 26,
     "metadata": {},
     "output_type": "execute_result"
    }
   ],
   "source": [
    "simple_linear_model(x_95, y_95, house_data_95)"
   ]
  },
  {
   "cell_type": "code",
   "execution_count": 27,
   "metadata": {},
   "outputs": [
    {
     "data": {
      "text/html": [
       "<table class=\"simpletable\">\n",
       "<caption>OLS Regression Results</caption>\n",
       "<tr>\n",
       "  <th>Dep. Variable:</th>            <td>y</td>        <th>  R-squared:         </th> <td>   0.483</td> \n",
       "</tr>\n",
       "<tr>\n",
       "  <th>Model:</th>                   <td>OLS</td>       <th>  Adj. R-squared:    </th> <td>   0.483</td> \n",
       "</tr>\n",
       "<tr>\n",
       "  <th>Method:</th>             <td>Least Squares</td>  <th>  F-statistic:       </th> <td>2.009e+04</td>\n",
       "</tr>\n",
       "<tr>\n",
       "  <th>Date:</th>             <td>Fri, 19 Apr 2019</td> <th>  Prob (F-statistic):</th>  <td>  0.00</td>  \n",
       "</tr>\n",
       "<tr>\n",
       "  <th>Time:</th>                 <td>09:42:16</td>     <th>  Log-Likelihood:    </th> <td> -9635.4</td> \n",
       "</tr>\n",
       "<tr>\n",
       "  <th>No. Observations:</th>      <td> 21534</td>      <th>  AIC:               </th> <td>1.927e+04</td>\n",
       "</tr>\n",
       "<tr>\n",
       "  <th>Df Residuals:</th>          <td> 21532</td>      <th>  BIC:               </th> <td>1.929e+04</td>\n",
       "</tr>\n",
       "<tr>\n",
       "  <th>Df Model:</th>              <td>     1</td>      <th>                     </th>     <td> </td>    \n",
       "</tr>\n",
       "<tr>\n",
       "  <th>Covariance Type:</th>      <td>nonrobust</td>    <th>                     </th>     <td> </td>    \n",
       "</tr>\n",
       "</table>\n",
       "<table class=\"simpletable\">\n",
       "<tr>\n",
       "      <td></td>         <th>coef</th>     <th>std err</th>      <th>t</th>      <th>P>|t|</th>  <th>[0.025</th>    <th>0.975]</th>  \n",
       "</tr>\n",
       "<tr>\n",
       "  <th>Intercept</th> <td>   12.2191</td> <td>    0.006</td> <td> 1911.738</td> <td> 0.000</td> <td>   12.207</td> <td>   12.232</td>\n",
       "</tr>\n",
       "<tr>\n",
       "  <th>x</th>         <td>    0.0004</td> <td> 2.81e-06</td> <td>  141.753</td> <td> 0.000</td> <td>    0.000</td> <td>    0.000</td>\n",
       "</tr>\n",
       "</table>\n",
       "<table class=\"simpletable\">\n",
       "<tr>\n",
       "  <th>Omnibus:</th>       <td> 3.669</td> <th>  Durbin-Watson:     </th> <td>   1.978</td>\n",
       "</tr>\n",
       "<tr>\n",
       "  <th>Prob(Omnibus):</th> <td> 0.160</td> <th>  Jarque-Bera (JB):  </th> <td>   3.690</td>\n",
       "</tr>\n",
       "<tr>\n",
       "  <th>Skew:</th>          <td> 0.029</td> <th>  Prob(JB):          </th> <td>   0.158</td>\n",
       "</tr>\n",
       "<tr>\n",
       "  <th>Kurtosis:</th>      <td> 2.974</td> <th>  Cond. No.          </th> <td>5.63e+03</td>\n",
       "</tr>\n",
       "</table><br/><br/>Warnings:<br/>[1] Standard Errors assume that the covariance matrix of the errors is correctly specified.<br/>[2] The condition number is large, 5.63e+03. This might indicate that there are<br/>strong multicollinearity or other numerical problems."
      ],
      "text/plain": [
       "<class 'statsmodels.iolib.summary.Summary'>\n",
       "\"\"\"\n",
       "                            OLS Regression Results                            \n",
       "==============================================================================\n",
       "Dep. Variable:                      y   R-squared:                       0.483\n",
       "Model:                            OLS   Adj. R-squared:                  0.483\n",
       "Method:                 Least Squares   F-statistic:                 2.009e+04\n",
       "Date:                Fri, 19 Apr 2019   Prob (F-statistic):               0.00\n",
       "Time:                        09:42:16   Log-Likelihood:                -9635.4\n",
       "No. Observations:               21534   AIC:                         1.927e+04\n",
       "Df Residuals:                   21532   BIC:                         1.929e+04\n",
       "Df Model:                           1                                         \n",
       "Covariance Type:            nonrobust                                         \n",
       "==============================================================================\n",
       "                 coef    std err          t      P>|t|      [0.025      0.975]\n",
       "------------------------------------------------------------------------------\n",
       "Intercept     12.2191      0.006   1911.738      0.000      12.207      12.232\n",
       "x              0.0004   2.81e-06    141.753      0.000       0.000       0.000\n",
       "==============================================================================\n",
       "Omnibus:                        3.669   Durbin-Watson:                   1.978\n",
       "Prob(Omnibus):                  0.160   Jarque-Bera (JB):                3.690\n",
       "Skew:                           0.029   Prob(JB):                        0.158\n",
       "Kurtosis:                       2.974   Cond. No.                     5.63e+03\n",
       "==============================================================================\n",
       "\n",
       "Warnings:\n",
       "[1] Standard Errors assume that the covariance matrix of the errors is correctly specified.\n",
       "[2] The condition number is large, 5.63e+03. This might indicate that there are\n",
       "strong multicollinearity or other numerical problems.\n",
       "\"\"\""
      ]
     },
     "execution_count": 27,
     "metadata": {},
     "output_type": "execute_result"
    }
   ],
   "source": [
    "simple_linear_model(x_100, y_100, house_data_100)"
   ]
  },
  {
   "cell_type": "markdown",
   "metadata": {},
   "source": [
    "Now we test the accuracy of our simple models using MAE (Median Absolute Error) as our metric of choice."
   ]
  },
  {
   "cell_type": "code",
   "execution_count": 28,
   "metadata": {},
   "outputs": [],
   "source": [
    "def test_median_err(predictors, target):\n",
    "    \"\"\"Train a model on the variables provided and return that model's MAE.\"\"\"\n",
    "    X = np.array(predictors)\n",
    "    y = np.array(target)\n",
    "    linreg = LinearRegression()\n",
    "    test_err = []\n",
    "    for i in range(20):\n",
    "        X_train, X_test, y_train, y_test = train_test_split(X, y, test_size=0.3)\n",
    "        linreg.fit(X_train, y_train)\n",
    "        y_hat_test = linreg.predict(X_test)\n",
    "        invert_y_hat_test = np.exp(y_hat_test)\n",
    "        invert_y_test = np.exp(y_test)\n",
    "        test_err.append(median_absolute_error(invert_y_test, invert_y_hat_test))\n",
    "        \n",
    "    return np.mean(test_err)"
   ]
  },
  {
   "cell_type": "code",
   "execution_count": 29,
   "metadata": {},
   "outputs": [
    {
     "name": "stdout",
     "output_type": "stream",
     "text": [
      "MAE when predicting with  90th percentile: 106513.97415351053\n",
      "MAE when predicting with  95th percentile: 111594.2202744179\n",
      "MAE when predicting with 100th percentile: 116862.87098920054\n"
     ]
    }
   ],
   "source": [
    "sqft_living_mae_90 = test_median_err(x_90, y_90.reshape(-1,1))\n",
    "sqft_living_mae_95 = test_median_err(x_95.reshape(-1,1), y_95.reshape(-1,1))\n",
    "sqft_living_mae_100 = test_median_err(x_100.reshape(-1,1), y_100.reshape(-1,1))\n",
    "\n",
    "print('MAE when predicting with  90th percentile:', sqft_living_mae_90)\n",
    "print('MAE when predicting with  95th percentile:', sqft_living_mae_95)\n",
    "print('MAE when predicting with 100th percentile:', sqft_living_mae_100)"
   ]
  },
  {
   "cell_type": "markdown",
   "metadata": {},
   "source": [
    "The 90th percentile has the lowest MAE value and therefore it is easier to fit to the 90th percentile than to the 95th or 100th percentile of the data. \n",
    "\n",
    "Now we'll see how this early test model fits our data."
   ]
  },
  {
   "cell_type": "code",
   "execution_count": 30,
   "metadata": {},
   "outputs": [
    {
     "data": {
      "image/png": "[encoded data removed]",
      "text/plain": [
       "<Figure size 576x576 with 1 Axes>"
      ]
     },
     "metadata": {
      "needs_background": "light"
     },
     "output_type": "display_data"
    }
   ],
   "source": [
    "x_90 = house_data_90['sqft_living']\n",
    "y_90 = house_data_90['log_price']\n",
    "formula = 'y_90~x_90'\n",
    "model = ols(formula=formula, data=house_data_90).fit()\n",
    "y_hat_90 = model.predict()\n",
    "\n",
    "plt.figure(figsize=(8,8))\n",
    "plt.scatter(x_90,y_90, label='House sale prices', alpha = 0.1)\n",
    "plt.plot(x_90, y_hat_90, color='red', label='Predicted prices')\n",
    "plt.title('Square foot of living and their log(prices)')\n",
    "plt.legend()\n",
    "plt.xlabel('Square footage of living space')\n",
    "plt.ylabel('Log of Price')\n",
    "plt.show()"
   ]
  },
  {
   "cell_type": "markdown",
   "metadata": {},
   "source": [
    "### Multivariable Linear Regression\n",
    "\n",
    "Here we begin to attempt to predict price using multiple predictors simultaneously. "
   ]
  },
  {
   "cell_type": "code",
   "execution_count": 31,
   "metadata": {},
   "outputs": [],
   "source": [
    "predictors = house_data_90.columns\n",
    "predictors = list(predictors)\n",
    "predictors.remove('date')\n",
    "predictors.remove('price')\n",
    "predictors.remove('log_price')\n",
    "predictors.remove('lat_long')"
   ]
  },
  {
   "cell_type": "markdown",
   "metadata": {},
   "source": [
    "We want to get a preliminary idea of how useful certain predictors are likely to be. As a test, we run simple linear regression models with each predictor individually and log the resulting MAE values. The sorted list of MAE values gives us some idea of the usefulness of each predictor."
   ]
  },
  {
   "cell_type": "code",
   "execution_count": 32,
   "metadata": {},
   "outputs": [
    {
     "data": {
      "text/plain": [
       "[('lat', 101128.02429054394),\n",
       " ('sqft_living', 106728.62071853229),\n",
       " ('distance_from_downtown_sea', 112840.04618446913),\n",
       " ('bathrooms', 115269.91847391214),\n",
       " ('sqft_basement', 121471.87330553246),\n",
       " ('view', 123871.26389317901),\n",
       " ('floors', 124056.86458271842),\n",
       " ('bedrooms', 124149.22135864905),\n",
       " ('long', 125616.59966481877),\n",
       " ('sqft_lot', 125645.63338567116),\n",
       " ('waterfront', 126108.62448969611),\n",
       " ('sqft_lot15', 126360.28779563338),\n",
       " ('id', 126890.64197101525),\n",
       " ('condition', 127191.8865425466),\n",
       " ('yr_built', 127462.04048024611)]"
      ]
     },
     "execution_count": 32,
     "metadata": {},
     "output_type": "execute_result"
    }
   ],
   "source": [
    "predictor_mae = {}\n",
    "for predictor in predictors:\n",
    "    x = house_data_90[[predictor]]\n",
    "    y = house_data_90['log_price']\n",
    "    predictor_mae[predictor] = test_median_err(x,y)\n",
    "\n",
    "sorted_predictor_mae = sorted(predictor_mae.items(), key=lambda x :x[1])\n",
    "sorted_predictor_mae"
   ]
  },
  {
   "cell_type": "markdown",
   "metadata": {},
   "source": [
    "Here we create a function to create K-folds for use in cross validation. We will use cross validation to ensure that our model will fit our test sets and not just training sets. "
   ]
  },
  {
   "cell_type": "code",
   "execution_count": 33,
   "metadata": {},
   "outputs": [],
   "source": [
    "def kfolds(data, k):\n",
    "    \"\"\"Convert data to a dataframe and construct k-tolds for train-test\"\"\"\n",
    "    # create a dataframe from the data\n",
    "    df = pd.DataFrame(data)\n",
    "    \n",
    "    #find the number of rows in the data frame\n",
    "    num_observations = len(df)\n",
    "    \n",
    "    # determine how large the folds are as well as how much leftover\n",
    "    rows_in_folds = num_observations//k #floor division\n",
    "    leftover_rows = num_observations%k\n",
    "    \n",
    "    folds = [] #make a list of fold sizes\n",
    "    starting_row = 0  # start the fold at this row\n",
    "    for i in range(k):\n",
    "        if leftover_rows > 0:\n",
    "            folds.append(df.iloc[starting_row : starting_row+rows_in_folds+1])\n",
    "            leftover_rows -= 1\n",
    "            starting_row += rows_in_folds + 1\n",
    "        else:\n",
    "            folds.append(df.iloc[starting_row : starting_row+rows_in_folds])\n",
    "            starting_row += rows_in_folds\n",
    "         \n",
    "    return folds"
   ]
  },
  {
   "cell_type": "markdown",
   "metadata": {},
   "source": [
    "This function runs K-fold cross validation on predictors and the target. We use median absolute error as our metric and inversely transform the log of price to get an actual price value."
   ]
  },
  {
   "cell_type": "code",
   "execution_count": 34,
   "metadata": {},
   "outputs": [],
   "source": [
    "def mae_for_kfolds(X, y, data, k):   #X is a list of predictor names. y is a list of the target name\n",
    "    \"\"\"Constructs an array of MAE values for k folds of data\"\"\"\n",
    "    folds = kfolds(data, k) #constructs kfolds\n",
    "    \n",
    "    test_errs = []\n",
    "    train_errs = []\n",
    "    for n in range(k):\n",
    "        # Split in train and test for the fold\n",
    "        train = pd.concat([fold for i,fold in enumerate(folds) if i != n])\n",
    "        test = folds[n]\n",
    "        # Fit a linear regression model\n",
    "        linreg = LinearRegression()\n",
    "        test_err = []\n",
    "        linreg.fit(train[X], train[y])\n",
    "        #Evaluate Train and Test Errors\n",
    "        y_hat_test = linreg.predict(test[X])\n",
    "        y_hat_train = linreg.predict(train[X])\n",
    "        invert_y_hat_test = np.exp(y_hat_test)\n",
    "        invert_y_test = np.exp(test[y])\n",
    "        invert_y_hat_train = np.exp(y_hat_train)\n",
    "        invert_y_train = np.exp(train[y])\n",
    "        test_errs.append(median_absolute_error(invert_y_test, invert_y_hat_test))\n",
    "        train_errs.append(median_absolute_error(invert_y_train, invert_y_hat_train))\n",
    "    return train_errs, test_errs"
   ]
  },
  {
   "cell_type": "markdown",
   "metadata": {},
   "source": [
    "Now we're about to build and test several models, with our benchmarking metric of choice being MAE. This is essentially the median dollar amount by which our predictions are likely to vary from reality. In the next several cells we select which housing features to use by using scikit-learn's feature selection tool. We continue to increase the number of features until we are satisfied with the tradeoff between bias and MAE."
   ]
  },
  {
   "cell_type": "code",
   "execution_count": 35,
   "metadata": {},
   "outputs": [],
   "source": [
    "linreg = LinearRegression()\n",
    "selector1 = RFE(linreg, n_features_to_select = 2)\n",
    "selector1 = selector1.fit(house_data_90[predictors], house_data_90['log_price'])"
   ]
  },
  {
   "cell_type": "code",
   "execution_count": 36,
   "metadata": {},
   "outputs": [
    {
     "data": {
      "text/plain": [
       "[('waterfront', True, 1),\n",
       " ('lat', True, 1),\n",
       " ('bathrooms', False, 2),\n",
       " ('long', False, 3),\n",
       " ('view', False, 4),\n",
       " ('condition', False, 5),\n",
       " ('floors', False, 6),\n",
       " ('bedrooms', False, 7),\n",
       " ('distance_from_downtown_sea', False, 8),\n",
       " ('yr_built', False, 9),\n",
       " ('sqft_living', False, 10),\n",
       " ('sqft_basement', False, 11),\n",
       " ('sqft_lot', False, 12),\n",
       " ('sqft_lot15', False, 13),\n",
       " ('id', False, 14)]"
      ]
     },
     "execution_count": 36,
     "metadata": {},
     "output_type": "execute_result"
    }
   ],
   "source": [
    "sorted(list(zip(predictors, selector1.support_, selector1.ranking_)), key=lambda x: x[2])"
   ]
  },
  {
   "cell_type": "code",
   "execution_count": 37,
   "metadata": {},
   "outputs": [
    {
     "name": "stdout",
     "output_type": "stream",
     "text": [
      "Training vs testing error difference: -89.01668133752173\n",
      "MAE: 100898.57932824478\n"
     ]
    }
   ],
   "source": [
    "X1 = ['waterfront', 'lat']\n",
    "y = ['log_price']\n",
    "cv_1 = mae_for_kfolds(X1, y, house_data_90, 20)\n",
    "train_errors = cv_1[0]\n",
    "error_diffs = [train_error - test_error for (train_error, test_error) in list(zip(cv_1[0], cv_1[1]))]\n",
    "print('Training vs testing error difference:', np.mean(error_diffs)) \n",
    "print('MAE:', np.mean(train_errors))"
   ]
  },
  {
   "cell_type": "code",
   "execution_count": 38,
   "metadata": {},
   "outputs": [
    {
     "data": {
      "text/plain": [
       "[('bathrooms', True, 1),\n",
       " ('waterfront', True, 1),\n",
       " ('lat', True, 1),\n",
       " ('long', False, 2),\n",
       " ('view', False, 3),\n",
       " ('condition', False, 4),\n",
       " ('floors', False, 5),\n",
       " ('bedrooms', False, 6),\n",
       " ('distance_from_downtown_sea', False, 7),\n",
       " ('yr_built', False, 8),\n",
       " ('sqft_living', False, 9),\n",
       " ('sqft_basement', False, 10),\n",
       " ('sqft_lot', False, 11),\n",
       " ('sqft_lot15', False, 12),\n",
       " ('id', False, 13)]"
      ]
     },
     "execution_count": 38,
     "metadata": {},
     "output_type": "execute_result"
    }
   ],
   "source": [
    "selector2 = RFE(linreg, n_features_to_select = 3)\n",
    "selector2 = selector2.fit(house_data_90[predictors], house_data_90['log_price'])\n",
    "\n",
    "sorted(list(zip(predictors, selector2.support_, selector2.ranking_)), key=lambda x: x[2])"
   ]
  },
  {
   "cell_type": "code",
   "execution_count": 39,
   "metadata": {},
   "outputs": [
    {
     "name": "stdout",
     "output_type": "stream",
     "text": [
      "Training vs testing error difference: 85.48395938457107\n",
      "MAE: 84786.4716809472\n"
     ]
    }
   ],
   "source": [
    "X2 = ['bathrooms','waterfront', 'lat']\n",
    "cv_2 = mae_for_kfolds(X2, y, house_data_90, 20)\n",
    "\n",
    "train_errors = cv_2[0]\n",
    "error_diffs = [train_error - test_error for (train_error, test_error) in list(zip(cv_2[0], cv_2[1]))]\n",
    "print('Training vs testing error difference:', np.mean(error_diffs)) \n",
    "print('MAE:', np.mean(train_errors))"
   ]
  },
  {
   "cell_type": "code",
   "execution_count": 40,
   "metadata": {},
   "outputs": [
    {
     "data": {
      "text/plain": [
       "[('bathrooms', True, 1),\n",
       " ('waterfront', True, 1),\n",
       " ('lat', True, 1),\n",
       " ('long', True, 1),\n",
       " ('view', False, 2),\n",
       " ('condition', False, 3),\n",
       " ('floors', False, 4),\n",
       " ('bedrooms', False, 5),\n",
       " ('distance_from_downtown_sea', False, 6),\n",
       " ('yr_built', False, 7),\n",
       " ('sqft_living', False, 8),\n",
       " ('sqft_basement', False, 9),\n",
       " ('sqft_lot', False, 10),\n",
       " ('sqft_lot15', False, 11),\n",
       " ('id', False, 12)]"
      ]
     },
     "execution_count": 40,
     "metadata": {},
     "output_type": "execute_result"
    }
   ],
   "source": [
    "selector3 = RFE(linreg, n_features_to_select = 4)\n",
    "selector3 = selector3.fit(house_data_90[predictors], house_data_90['log_price'])\n",
    "\n",
    "sorted(list(zip(predictors, selector3.support_, selector3.ranking_)), key=lambda x: x[2])"
   ]
  },
  {
   "cell_type": "code",
   "execution_count": 41,
   "metadata": {},
   "outputs": [
    {
     "name": "stdout",
     "output_type": "stream",
     "text": [
      "Training vs testing error difference: -160.25887656637786\n",
      "MAE: 83979.74497321206\n"
     ]
    }
   ],
   "source": [
    "X3 = ['bathrooms','waterfront', 'lat', 'long']\n",
    "cv_3 = mae_for_kfolds(X3, y, house_data_90, 20)\n",
    "train_errors = cv_3[0]\n",
    "error_diffs = [train_error - test_error for (train_error, test_error) in list(zip(cv_3[0], cv_3[1]))]\n",
    "print('Training vs testing error difference:', np.mean(error_diffs)) \n",
    "print('MAE:', np.mean(train_errors))"
   ]
  },
  {
   "cell_type": "code",
   "execution_count": 42,
   "metadata": {},
   "outputs": [
    {
     "data": {
      "text/plain": [
       "[('bathrooms', True, 1),\n",
       " ('waterfront', True, 1),\n",
       " ('view', True, 1),\n",
       " ('lat', True, 1),\n",
       " ('long', True, 1),\n",
       " ('condition', False, 2),\n",
       " ('floors', False, 3),\n",
       " ('bedrooms', False, 4),\n",
       " ('distance_from_downtown_sea', False, 5),\n",
       " ('yr_built', False, 6),\n",
       " ('sqft_living', False, 7),\n",
       " ('sqft_basement', False, 8),\n",
       " ('sqft_lot', False, 9),\n",
       " ('sqft_lot15', False, 10),\n",
       " ('id', False, 11)]"
      ]
     },
     "execution_count": 42,
     "metadata": {},
     "output_type": "execute_result"
    }
   ],
   "source": [
    "selector4 = RFE(linreg, n_features_to_select = 5)\n",
    "selector4 = selector4.fit(house_data_90[predictors], house_data_90['log_price'])\n",
    "\n",
    "sorted(list(zip(predictors, selector4.support_, selector4.ranking_)), key=lambda x: x[2])"
   ]
  },
  {
   "cell_type": "code",
   "execution_count": 43,
   "metadata": {},
   "outputs": [
    {
     "name": "stdout",
     "output_type": "stream",
     "text": [
      "Training vs testing error difference: -169.7818602270774\n",
      "MAE: 81535.2172927552\n"
     ]
    }
   ],
   "source": [
    "X4 = ['bathrooms','waterfront', 'view', 'lat', 'long']\n",
    "cv_4 = mae_for_kfolds(X4, y, house_data_90, 20)\n",
    "train_errors = cv_4[0]\n",
    "error_diffs = [train_error - test_error for (train_error, test_error) in list(zip(cv_4[0], cv_4[1]))]\n",
    "print('Training vs testing error difference:', np.mean(error_diffs)) \n",
    "print('MAE:', np.mean(train_errors))"
   ]
  },
  {
   "cell_type": "code",
   "execution_count": 44,
   "metadata": {},
   "outputs": [
    {
     "data": {
      "text/plain": [
       "[('bathrooms', True, 1),\n",
       " ('waterfront', True, 1),\n",
       " ('view', True, 1),\n",
       " ('condition', True, 1),\n",
       " ('lat', True, 1),\n",
       " ('long', True, 1),\n",
       " ('floors', False, 2),\n",
       " ('bedrooms', False, 3),\n",
       " ('distance_from_downtown_sea', False, 4),\n",
       " ('yr_built', False, 5),\n",
       " ('sqft_living', False, 6),\n",
       " ('sqft_basement', False, 7),\n",
       " ('sqft_lot', False, 8),\n",
       " ('sqft_lot15', False, 9),\n",
       " ('id', False, 10)]"
      ]
     },
     "execution_count": 44,
     "metadata": {},
     "output_type": "execute_result"
    }
   ],
   "source": [
    "selector5 = RFE(linreg, n_features_to_select = 6)\n",
    "selector5 = selector5.fit(house_data_90[predictors], house_data_90['log_price'])\n",
    "\n",
    "sorted(list(zip(predictors, selector5.support_, selector5.ranking_)), key=lambda x: x[2])"
   ]
  },
  {
   "cell_type": "code",
   "execution_count": 45,
   "metadata": {},
   "outputs": [
    {
     "name": "stdout",
     "output_type": "stream",
     "text": [
      "Training vs testing error difference: -247.6931834416624\n",
      "MAE: 80757.98259279769\n"
     ]
    }
   ],
   "source": [
    "X5 = ['bathrooms','waterfront', 'view', 'condition', 'lat', 'long']\n",
    "cv_5 = mae_for_kfolds(X5, y, house_data_90, 20)\n",
    "train_errors = cv_5[0]\n",
    "error_diffs = [train_error - test_error for (train_error, test_error) in list(zip(cv_5[0], cv_5[1]))]\n",
    "print('Training vs testing error difference:', np.mean(error_diffs)) \n",
    "print('MAE:', np.mean(train_errors))"
   ]
  },
  {
   "cell_type": "code",
   "execution_count": 46,
   "metadata": {},
   "outputs": [
    {
     "data": {
      "text/plain": [
       "[('bathrooms', True, 1),\n",
       " ('floors', True, 1),\n",
       " ('waterfront', True, 1),\n",
       " ('view', True, 1),\n",
       " ('condition', True, 1),\n",
       " ('lat', True, 1),\n",
       " ('long', True, 1),\n",
       " ('bedrooms', False, 2),\n",
       " ('distance_from_downtown_sea', False, 3),\n",
       " ('yr_built', False, 4),\n",
       " ('sqft_living', False, 5),\n",
       " ('sqft_basement', False, 6),\n",
       " ('sqft_lot', False, 7),\n",
       " ('sqft_lot15', False, 8),\n",
       " ('id', False, 9)]"
      ]
     },
     "execution_count": 46,
     "metadata": {},
     "output_type": "execute_result"
    }
   ],
   "source": [
    "selector6 = RFE(linreg, n_features_to_select = 7)\n",
    "selector6 = selector6.fit(house_data_90[predictors], house_data_90['log_price'])\n",
    "\n",
    "sorted(list(zip(predictors, selector6.support_, selector6.ranking_)), key=lambda x: x[2])"
   ]
  },
  {
   "cell_type": "code",
   "execution_count": 47,
   "metadata": {},
   "outputs": [
    {
     "name": "stdout",
     "output_type": "stream",
     "text": [
      "Training vs testing error difference: -366.7367993312466\n",
      "MAE: 79978.17526189132\n"
     ]
    }
   ],
   "source": [
    "X6 = ['bathrooms','floors','waterfront', 'view', 'condition', 'lat', 'long']\n",
    "cv_6 = mae_for_kfolds(X6, y, house_data_90, 20)\n",
    "train_errors = cv_6[0]\n",
    "error_diffs = [train_error - test_error for (train_error, test_error) in list(zip(cv_6[0], cv_6[1]))]\n",
    "print('Training vs testing error difference:', np.mean(error_diffs)) \n",
    "print('MAE:', np.mean(train_errors))"
   ]
  },
  {
   "cell_type": "code",
   "execution_count": 48,
   "metadata": {},
   "outputs": [
    {
     "data": {
      "text/plain": [
       "[('bedrooms', True, 1),\n",
       " ('bathrooms', True, 1),\n",
       " ('floors', True, 1),\n",
       " ('waterfront', True, 1),\n",
       " ('view', True, 1),\n",
       " ('condition', True, 1),\n",
       " ('lat', True, 1),\n",
       " ('long', True, 1),\n",
       " ('distance_from_downtown_sea', False, 2),\n",
       " ('yr_built', False, 3),\n",
       " ('sqft_living', False, 4),\n",
       " ('sqft_basement', False, 5),\n",
       " ('sqft_lot', False, 6),\n",
       " ('sqft_lot15', False, 7),\n",
       " ('id', False, 8)]"
      ]
     },
     "execution_count": 48,
     "metadata": {},
     "output_type": "execute_result"
    }
   ],
   "source": [
    "selector7 = RFE(linreg, n_features_to_select = 8)\n",
    "selector7 = selector7.fit(house_data_90[predictors], house_data_90['log_price'])\n",
    "\n",
    "sorted(list(zip(predictors, selector7.support_, selector7.ranking_)), key=lambda x: x[2])"
   ]
  },
  {
   "cell_type": "code",
   "execution_count": 49,
   "metadata": {},
   "outputs": [
    {
     "name": "stdout",
     "output_type": "stream",
     "text": [
      "Training vs testing error difference: -355.94737344854656\n",
      "MAE: 79331.62076467178\n"
     ]
    }
   ],
   "source": [
    "X7 = ['bedrooms','bathrooms','floors','waterfront', 'view', 'condition', 'lat', 'long']\n",
    "cv_7 = mae_for_kfolds(X7, y, house_data_90, 20)\n",
    "train_errors = cv_7[0]\n",
    "error_diffs = [train_error - test_error for (train_error, test_error) in list(zip(cv_7[0], cv_7[1]))]\n",
    "print('Training vs testing error difference:', np.mean(error_diffs)) \n",
    "print('MAE:', np.mean(train_errors))"
   ]
  },
  {
   "cell_type": "markdown",
   "metadata": {},
   "source": [
    "This model has an MAE of 79,331.62--i.e., the median margin for error of our predictions is roughly $79,000. Additionally, the average difference in errors between our test data sets and training data sets is fairly low at -355.95, which shows that the model is not overfit. Our model's summary also shows that each selected feature is still statistically significant. "
   ]
  },
  {
   "cell_type": "code",
   "execution_count": 50,
   "metadata": {},
   "outputs": [
    {
     "data": {
      "text/html": [
       "<table class=\"simpletable\">\n",
       "<caption>OLS Regression Results</caption>\n",
       "<tr>\n",
       "  <th>Dep. Variable:</th>            <td>y</td>        <th>  R-squared:         </th> <td>   0.496</td>\n",
       "</tr>\n",
       "<tr>\n",
       "  <th>Model:</th>                   <td>OLS</td>       <th>  Adj. R-squared:    </th> <td>   0.496</td>\n",
       "</tr>\n",
       "<tr>\n",
       "  <th>Method:</th>             <td>Least Squares</td>  <th>  F-statistic:       </th> <td>   2383.</td>\n",
       "</tr>\n",
       "<tr>\n",
       "  <th>Date:</th>             <td>Fri, 19 Apr 2019</td> <th>  Prob (F-statistic):</th>  <td>  0.00</td> \n",
       "</tr>\n",
       "<tr>\n",
       "  <th>Time:</th>                 <td>09:42:28</td>     <th>  Log-Likelihood:    </th> <td> -3828.6</td>\n",
       "</tr>\n",
       "<tr>\n",
       "  <th>No. Observations:</th>      <td> 19381</td>      <th>  AIC:               </th> <td>   7675.</td>\n",
       "</tr>\n",
       "<tr>\n",
       "  <th>Df Residuals:</th>          <td> 19372</td>      <th>  BIC:               </th> <td>   7746.</td>\n",
       "</tr>\n",
       "<tr>\n",
       "  <th>Df Model:</th>              <td>     8</td>      <th>                     </th>     <td> </td>   \n",
       "</tr>\n",
       "<tr>\n",
       "  <th>Covariance Type:</th>      <td>nonrobust</td>    <th>                     </th>     <td> </td>   \n",
       "</tr>\n",
       "</table>\n",
       "<table class=\"simpletable\">\n",
       "<tr>\n",
       "       <td></td>         <th>coef</th>     <th>std err</th>      <th>t</th>      <th>P>|t|</th>  <th>[0.025</th>    <th>0.975]</th>  \n",
       "</tr>\n",
       "<tr>\n",
       "  <th>const</th>      <td>  -37.0944</td> <td>    1.938</td> <td>  -19.136</td> <td> 0.000</td> <td>  -40.894</td> <td>  -33.295</td>\n",
       "</tr>\n",
       "<tr>\n",
       "  <th>bedrooms</th>   <td>    0.0482</td> <td>    0.003</td> <td>   17.767</td> <td> 0.000</td> <td>    0.043</td> <td>    0.053</td>\n",
       "</tr>\n",
       "<tr>\n",
       "  <th>bathrooms</th>  <td>    0.2008</td> <td>    0.004</td> <td>   48.624</td> <td> 0.000</td> <td>    0.193</td> <td>    0.209</td>\n",
       "</tr>\n",
       "<tr>\n",
       "  <th>floors</th>     <td>    0.0783</td> <td>    0.005</td> <td>   16.482</td> <td> 0.000</td> <td>    0.069</td> <td>    0.088</td>\n",
       "</tr>\n",
       "<tr>\n",
       "  <th>waterfront</th> <td>    0.2189</td> <td>    0.049</td> <td>    4.502</td> <td> 0.000</td> <td>    0.124</td> <td>    0.314</td>\n",
       "</tr>\n",
       "<tr>\n",
       "  <th>view</th>       <td>    0.1205</td> <td>    0.004</td> <td>   31.833</td> <td> 0.000</td> <td>    0.113</td> <td>    0.128</td>\n",
       "</tr>\n",
       "<tr>\n",
       "  <th>condition</th>  <td>    0.0726</td> <td>    0.003</td> <td>   21.118</td> <td> 0.000</td> <td>    0.066</td> <td>    0.079</td>\n",
       "</tr>\n",
       "<tr>\n",
       "  <th>lat</th>        <td>    1.5224</td> <td>    0.015</td> <td>  101.458</td> <td> 0.000</td> <td>    1.493</td> <td>    1.552</td>\n",
       "</tr>\n",
       "<tr>\n",
       "  <th>long</th>       <td>    0.1907</td> <td>    0.016</td> <td>   12.259</td> <td> 0.000</td> <td>    0.160</td> <td>    0.221</td>\n",
       "</tr>\n",
       "</table>\n",
       "<table class=\"simpletable\">\n",
       "<tr>\n",
       "  <th>Omnibus:</th>       <td>83.300</td> <th>  Durbin-Watson:     </th> <td>   1.994</td>\n",
       "</tr>\n",
       "<tr>\n",
       "  <th>Prob(Omnibus):</th> <td> 0.000</td> <th>  Jarque-Bera (JB):  </th> <td>  99.829</td>\n",
       "</tr>\n",
       "<tr>\n",
       "  <th>Skew:</th>          <td>-0.094</td> <th>  Prob(JB):          </th> <td>2.10e-22</td>\n",
       "</tr>\n",
       "<tr>\n",
       "  <th>Kurtosis:</th>      <td> 3.297</td> <th>  Cond. No.          </th> <td>1.20e+05</td>\n",
       "</tr>\n",
       "</table><br/><br/>Warnings:<br/>[1] Standard Errors assume that the covariance matrix of the errors is correctly specified.<br/>[2] The condition number is large, 1.2e+05. This might indicate that there are<br/>strong multicollinearity or other numerical problems."
      ],
      "text/plain": [
       "<class 'statsmodels.iolib.summary.Summary'>\n",
       "\"\"\"\n",
       "                            OLS Regression Results                            \n",
       "==============================================================================\n",
       "Dep. Variable:                      y   R-squared:                       0.496\n",
       "Model:                            OLS   Adj. R-squared:                  0.496\n",
       "Method:                 Least Squares   F-statistic:                     2383.\n",
       "Date:                Fri, 19 Apr 2019   Prob (F-statistic):               0.00\n",
       "Time:                        09:42:28   Log-Likelihood:                -3828.6\n",
       "No. Observations:               19381   AIC:                             7675.\n",
       "Df Residuals:                   19372   BIC:                             7746.\n",
       "Df Model:                           8                                         \n",
       "Covariance Type:            nonrobust                                         \n",
       "==============================================================================\n",
       "                 coef    std err          t      P>|t|      [0.025      0.975]\n",
       "------------------------------------------------------------------------------\n",
       "const        -37.0944      1.938    -19.136      0.000     -40.894     -33.295\n",
       "bedrooms       0.0482      0.003     17.767      0.000       0.043       0.053\n",
       "bathrooms      0.2008      0.004     48.624      0.000       0.193       0.209\n",
       "floors         0.0783      0.005     16.482      0.000       0.069       0.088\n",
       "waterfront     0.2189      0.049      4.502      0.000       0.124       0.314\n",
       "view           0.1205      0.004     31.833      0.000       0.113       0.128\n",
       "condition      0.0726      0.003     21.118      0.000       0.066       0.079\n",
       "lat            1.5224      0.015    101.458      0.000       1.493       1.552\n",
       "long           0.1907      0.016     12.259      0.000       0.160       0.221\n",
       "==============================================================================\n",
       "Omnibus:                       83.300   Durbin-Watson:                   1.994\n",
       "Prob(Omnibus):                  0.000   Jarque-Bera (JB):               99.829\n",
       "Skew:                          -0.094   Prob(JB):                     2.10e-22\n",
       "Kurtosis:                       3.297   Cond. No.                     1.20e+05\n",
       "==============================================================================\n",
       "\n",
       "Warnings:\n",
       "[1] Standard Errors assume that the covariance matrix of the errors is correctly specified.\n",
       "[2] The condition number is large, 1.2e+05. This might indicate that there are\n",
       "strong multicollinearity or other numerical problems.\n",
       "\"\"\""
      ]
     },
     "execution_count": 50,
     "metadata": {},
     "output_type": "execute_result"
    }
   ],
   "source": [
    "preds = house_data_90.loc[:, X7]\n",
    "preds_int = sm.add_constant(preds)\n",
    "model_2nd = sm.OLS(house_data_90['log_price'].values, preds_int).fit()\n",
    "\n",
    "model_2nd.summary()"
   ]
  },
  {
   "cell_type": "markdown",
   "metadata": {},
   "source": [
    "We nearly decided to be satisfied with that model, but the effects of adding just one more predictor quickly changed our minds again."
   ]
  },
  {
   "cell_type": "code",
   "execution_count": 51,
   "metadata": {},
   "outputs": [
    {
     "data": {
      "text/plain": [
       "[('bedrooms', True, 1),\n",
       " ('bathrooms', True, 1),\n",
       " ('floors', True, 1),\n",
       " ('waterfront', True, 1),\n",
       " ('view', True, 1),\n",
       " ('condition', True, 1),\n",
       " ('lat', True, 1),\n",
       " ('long', True, 1),\n",
       " ('distance_from_downtown_sea', True, 1),\n",
       " ('yr_built', False, 2),\n",
       " ('sqft_living', False, 3),\n",
       " ('sqft_basement', False, 4),\n",
       " ('sqft_lot', False, 5),\n",
       " ('sqft_lot15', False, 6),\n",
       " ('id', False, 7)]"
      ]
     },
     "execution_count": 51,
     "metadata": {},
     "output_type": "execute_result"
    }
   ],
   "source": [
    "selector8 = RFE(linreg, n_features_to_select = 9)\n",
    "selector8 = selector8.fit(house_data_90[predictors], house_data_90['log_price'])\n",
    "\n",
    "sorted(list(zip(predictors, selector8.support_, selector8.ranking_)), key=lambda x: x[2])"
   ]
  },
  {
   "cell_type": "code",
   "execution_count": 52,
   "metadata": {},
   "outputs": [
    {
     "data": {
      "text/plain": [
       "(-199.8575626080892, 75535.23001400218)"
      ]
     },
     "execution_count": 52,
     "metadata": {},
     "output_type": "execute_result"
    }
   ],
   "source": [
    "X8 = ['bedrooms','bathrooms','floors','waterfront', 'view', 'condition', 'lat', 'long', 'distance_from_downtown_sea']\n",
    "cv_8 = mae_for_kfolds(X8, y, house_data_90, 20)\n",
    "train_errors = cv_8[0]\n",
    "error_diffs = [train_error - test_error for (train_error, test_error) in list(zip(cv_8[0], cv_8[1]))]\n",
    "np.mean(error_diffs), np.mean(train_errors)"
   ]
  },
  {
   "cell_type": "markdown",
   "metadata": {},
   "source": [
    "By tentatively adding one more predictor, we have further decreased our model's MAE to 75,535.23--a median prediction error of roughly $75,500. So it would seem to be slightly more accurate than even the previous one. In the model summary we also see that the features are still statistically significant."
   ]
  },
  {
   "cell_type": "code",
   "execution_count": 53,
   "metadata": {},
   "outputs": [
    {
     "data": {
      "text/html": [
       "<table class=\"simpletable\">\n",
       "<caption>OLS Regression Results</caption>\n",
       "<tr>\n",
       "  <th>Dep. Variable:</th>            <td>y</td>        <th>  R-squared:         </th> <td>   0.536</td>\n",
       "</tr>\n",
       "<tr>\n",
       "  <th>Model:</th>                   <td>OLS</td>       <th>  Adj. R-squared:    </th> <td>   0.536</td>\n",
       "</tr>\n",
       "<tr>\n",
       "  <th>Method:</th>             <td>Least Squares</td>  <th>  F-statistic:       </th> <td>   2489.</td>\n",
       "</tr>\n",
       "<tr>\n",
       "  <th>Date:</th>             <td>Fri, 19 Apr 2019</td> <th>  Prob (F-statistic):</th>  <td>  0.00</td> \n",
       "</tr>\n",
       "<tr>\n",
       "  <th>Time:</th>                 <td>09:42:29</td>     <th>  Log-Likelihood:    </th> <td> -3021.6</td>\n",
       "</tr>\n",
       "<tr>\n",
       "  <th>No. Observations:</th>      <td> 19381</td>      <th>  AIC:               </th> <td>   6063.</td>\n",
       "</tr>\n",
       "<tr>\n",
       "  <th>Df Residuals:</th>          <td> 19371</td>      <th>  BIC:               </th> <td>   6142.</td>\n",
       "</tr>\n",
       "<tr>\n",
       "  <th>Df Model:</th>              <td>     9</td>      <th>                     </th>     <td> </td>   \n",
       "</tr>\n",
       "<tr>\n",
       "  <th>Covariance Type:</th>      <td>nonrobust</td>    <th>                     </th>     <td> </td>   \n",
       "</tr>\n",
       "</table>\n",
       "<table class=\"simpletable\">\n",
       "<tr>\n",
       "               <td></td>                 <th>coef</th>     <th>std err</th>      <th>t</th>      <th>P>|t|</th>  <th>[0.025</th>    <th>0.975]</th>  \n",
       "</tr>\n",
       "<tr>\n",
       "  <th>const</th>                      <td>   73.4440</td> <td>    3.274</td> <td>   22.430</td> <td> 0.000</td> <td>   67.026</td> <td>   79.862</td>\n",
       "</tr>\n",
       "<tr>\n",
       "  <th>bedrooms</th>                   <td>    0.0482</td> <td>    0.003</td> <td>   18.533</td> <td> 0.000</td> <td>    0.043</td> <td>    0.053</td>\n",
       "</tr>\n",
       "<tr>\n",
       "  <th>bathrooms</th>                  <td>    0.2070</td> <td>    0.004</td> <td>   52.212</td> <td> 0.000</td> <td>    0.199</td> <td>    0.215</td>\n",
       "</tr>\n",
       "<tr>\n",
       "  <th>floors</th>                     <td>    0.0636</td> <td>    0.005</td> <td>   13.926</td> <td> 0.000</td> <td>    0.055</td> <td>    0.073</td>\n",
       "</tr>\n",
       "<tr>\n",
       "  <th>waterfront</th>                 <td>    0.2968</td> <td>    0.047</td> <td>    6.358</td> <td> 0.000</td> <td>    0.205</td> <td>    0.388</td>\n",
       "</tr>\n",
       "<tr>\n",
       "  <th>view</th>                       <td>    0.1194</td> <td>    0.004</td> <td>   32.862</td> <td> 0.000</td> <td>    0.112</td> <td>    0.126</td>\n",
       "</tr>\n",
       "<tr>\n",
       "  <th>condition</th>                  <td>    0.0679</td> <td>    0.003</td> <td>   20.581</td> <td> 0.000</td> <td>    0.061</td> <td>    0.074</td>\n",
       "</tr>\n",
       "<tr>\n",
       "  <th>lat</th>                        <td>    0.9251</td> <td>    0.020</td> <td>   45.180</td> <td> 0.000</td> <td>    0.885</td> <td>    0.965</td>\n",
       "</tr>\n",
       "<tr>\n",
       "  <th>long</th>                       <td>    0.8603</td> <td>    0.022</td> <td>   38.894</td> <td> 0.000</td> <td>    0.817</td> <td>    0.904</td>\n",
       "</tr>\n",
       "<tr>\n",
       "  <th>distance_from_downtown_sea</th> <td>   -0.0236</td> <td>    0.001</td> <td>  -41.014</td> <td> 0.000</td> <td>   -0.025</td> <td>   -0.023</td>\n",
       "</tr>\n",
       "</table>\n",
       "<table class=\"simpletable\">\n",
       "<tr>\n",
       "  <th>Omnibus:</th>       <td>256.284</td> <th>  Durbin-Watson:     </th> <td>   1.991</td>\n",
       "</tr>\n",
       "<tr>\n",
       "  <th>Prob(Omnibus):</th> <td> 0.000</td>  <th>  Jarque-Bera (JB):  </th> <td> 346.678</td>\n",
       "</tr>\n",
       "<tr>\n",
       "  <th>Skew:</th>          <td>-0.181</td>  <th>  Prob(JB):          </th> <td>5.25e-76</td>\n",
       "</tr>\n",
       "<tr>\n",
       "  <th>Kurtosis:</th>      <td> 3.546</td>  <th>  Cond. No.          </th> <td>2.12e+05</td>\n",
       "</tr>\n",
       "</table><br/><br/>Warnings:<br/>[1] Standard Errors assume that the covariance matrix of the errors is correctly specified.<br/>[2] The condition number is large, 2.12e+05. This might indicate that there are<br/>strong multicollinearity or other numerical problems."
      ],
      "text/plain": [
       "<class 'statsmodels.iolib.summary.Summary'>\n",
       "\"\"\"\n",
       "                            OLS Regression Results                            \n",
       "==============================================================================\n",
       "Dep. Variable:                      y   R-squared:                       0.536\n",
       "Model:                            OLS   Adj. R-squared:                  0.536\n",
       "Method:                 Least Squares   F-statistic:                     2489.\n",
       "Date:                Fri, 19 Apr 2019   Prob (F-statistic):               0.00\n",
       "Time:                        09:42:29   Log-Likelihood:                -3021.6\n",
       "No. Observations:               19381   AIC:                             6063.\n",
       "Df Residuals:                   19371   BIC:                             6142.\n",
       "Df Model:                           9                                         \n",
       "Covariance Type:            nonrobust                                         \n",
       "==============================================================================================\n",
       "                                 coef    std err          t      P>|t|      [0.025      0.975]\n",
       "----------------------------------------------------------------------------------------------\n",
       "const                         73.4440      3.274     22.430      0.000      67.026      79.862\n",
       "bedrooms                       0.0482      0.003     18.533      0.000       0.043       0.053\n",
       "bathrooms                      0.2070      0.004     52.212      0.000       0.199       0.215\n",
       "floors                         0.0636      0.005     13.926      0.000       0.055       0.073\n",
       "waterfront                     0.2968      0.047      6.358      0.000       0.205       0.388\n",
       "view                           0.1194      0.004     32.862      0.000       0.112       0.126\n",
       "condition                      0.0679      0.003     20.581      0.000       0.061       0.074\n",
       "lat                            0.9251      0.020     45.180      0.000       0.885       0.965\n",
       "long                           0.8603      0.022     38.894      0.000       0.817       0.904\n",
       "distance_from_downtown_sea    -0.0236      0.001    -41.014      0.000      -0.025      -0.023\n",
       "==============================================================================\n",
       "Omnibus:                      256.284   Durbin-Watson:                   1.991\n",
       "Prob(Omnibus):                  0.000   Jarque-Bera (JB):              346.678\n",
       "Skew:                          -0.181   Prob(JB):                     5.25e-76\n",
       "Kurtosis:                       3.546   Cond. No.                     2.12e+05\n",
       "==============================================================================\n",
       "\n",
       "Warnings:\n",
       "[1] Standard Errors assume that the covariance matrix of the errors is correctly specified.\n",
       "[2] The condition number is large, 2.12e+05. This might indicate that there are\n",
       "strong multicollinearity or other numerical problems.\n",
       "\"\"\""
      ]
     },
     "execution_count": 53,
     "metadata": {},
     "output_type": "execute_result"
    }
   ],
   "source": [
    "preds = house_data_90.loc[:, X8]\n",
    "preds_int = sm.add_constant(preds)\n",
    "model_1st = sm.OLS(house_data_90['log_price'].values, preds_int).fit()\n",
    "\n",
    "model_1st.summary()"
   ]
  },
  {
   "cell_type": "markdown",
   "metadata": {},
   "source": [
    "How does this model's accuracy change when working with the full gamut of values (vs the bottom 90th percentile of price)?"
   ]
  },
  {
   "cell_type": "code",
   "execution_count": 56,
   "metadata": {},
   "outputs": [
    {
     "data": {
      "text/plain": [
       "(-881.1494184483578, 87209.85183926745)"
      ]
     },
     "execution_count": 56,
     "metadata": {},
     "output_type": "execute_result"
    }
   ],
   "source": [
    "X8 = ['bedrooms','bathrooms','floors','waterfront', 'view', 'condition', 'lat', 'long', 'distance_from_downtown_sea']\n",
    "cv_8 = mae_for_kfolds(X8, y, house_data, 20)\n",
    "train_errors = cv_8[0]\n",
    "error_diffs = [train_error - test_error for (train_error, test_error) in list(zip(cv_8[0], cv_8[1]))]\n",
    "np.mean(error_diffs), np.mean(train_errors)"
   ]
  },
  {
   "cell_type": "markdown",
   "metadata": {},
   "source": [
    "That's a rather substantial jump in both values--a 4.4x increase in the difference between training and test errors. Focusing solely on the 90th percentile also seems to decrease the inaccuracy of our model's predictions by 13.4%, which equates to about $11,700. Clearly we did ourselves a favor by focusing on buyers in the 90th price percentile as our target demographic!"
   ]
  },
  {
   "cell_type": "markdown",
   "metadata": {},
   "source": [
    "## EVALUATION\n",
    "\n",
    "For this stage we'll be looking at residual plots of our winning and second-place models, which should give us a more complete picture than median error alone. In a residual plot we hope to have a rectangular cloud with no specific pattern around 0 of the Standardized Residuals. The majority of our residuals lie within 2 standard deviations of 0, but there are some stray points. The harsh cut is likely due to truncating the price to only the 90th percentile. This may indicate the need for further tuning."
   ]
  },
  {
   "cell_type": "code",
   "execution_count": null,
   "metadata": {},
   "outputs": [],
   "source": [
    "scaler_1st, scaler_2nd = StandardScaler(), StandardScaler()\n",
    "residuals_2nd = np.asarray(model_2nd.resid)\n",
    "residuals_1st = np.asarray(model_1st.resid)\n",
    "scaler_1st.fit(residuals_1st.reshape(-1,1))\n",
    "scaler_2nd.fit(residuals_2nd.reshape(-1,1))\n",
    "standard_resid_1st = scaler_1st.transform(residuals_1st.reshape(-1,1))\n",
    "standard_resid_2nd = scaler_2nd.transform(residuals_2nd.reshape(-1,1))\n",
    "\n",
    "fig, ax = plt.subplots(figsize=(8,8))\n",
    "plt.xlabel('Predicted Price')\n",
    "plt.ylabel('Standardized Resdiduals')\n",
    "plt.title('Residual Price for Multivariate Models')\n",
    "_ = ax.scatter(model_2nd.predict(), standard_resid_2nd, alpha=0.1, label='2nd Best Model', color='blue')\n",
    "_ = ax.scatter(model_1st.predict(), standard_resid_1st, alpha=0.1, label='Best Model', color='lime')\n",
    "plt.legend()\n",
    "plt.show()"
   ]
  },
  {
   "cell_type": "markdown",
   "metadata": {},
   "source": [
    "Our residuals have improved slightly with our best model--the reduced spread shows our decreased errors visually. The best model's errors are clustered more uniformly as well."
   ]
  },
  {
   "cell_type": "markdown",
   "metadata": {},
   "source": [
    "Here we have plotting the quantiles of our 2nd best model's residuals (blue) against a standard normal distribution (red). Our residuals for the most part lay on the normal line, with some curving at the tail. This means that our model's accuracy is quite good in the mid price ranges, but trails off slightly at the high end and somewhat moreso at the low end. "
   ]
  },
  {
   "cell_type": "code",
   "execution_count": null,
   "metadata": {},
   "outputs": [],
   "source": [
    "residuals = model_2nd.resid\n",
    "fig = sm.graphics.qqplot(residuals, dist=stats.norm, line='45', fit=True)\n",
    "plt.xlabel('Quantiles of Standard Normal Distribution')\n",
    "plt.ylabel('Quantiles of Residuals')\n",
    "plt.title('Distribution of Residuals (2nd Best Model)')\n",
    "fig.show()"
   ]
  },
  {
   "cell_type": "markdown",
   "metadata": {},
   "source": [
    "Our best model's QQ plot is slightly improved, but nearly identical."
   ]
  },
  {
   "cell_type": "code",
   "execution_count": null,
   "metadata": {},
   "outputs": [],
   "source": [
    "residuals = model_1st.resid\n",
    "fig = sm.graphics.qqplot(residuals, dist=stats.norm, line='45', fit=True)\n",
    "plt.xlabel('Quantiles of Standard Normal Distribution')\n",
    "plt.ylabel('Quantiles of Residuals')\n",
    "plt.title('Distribution of Residuals (Best Model)')\n",
    "fig.show()"
   ]
  },
  {
   "cell_type": "markdown",
   "metadata": {},
   "source": [
    "## DEPLOYMENT"
   ]
  },
  {
   "cell_type": "markdown",
   "metadata": {},
   "source": [
    "This is our formula from our final model that we can use to predict the price of a house in King County."
   ]
  },
  {
   "cell_type": "code",
   "execution_count": null,
   "metadata": {},
   "outputs": [],
   "source": [
    "def predict_price(bed, bath, floors, waterfront, view, condition, lat, long, dist_from_sea):\n",
    "    # these are the coefficients for each of the features provided in the model.\n",
    "    log_price = (73.4440 + 0.0482*bed + 0.2070*bath + 0.0636*floors + 0.2986*waterfront\n",
    "                 + 0.1194*view + 0.0679*condition + 0.9251*lat + 0.8603*long - 0.0236*dist_from_sea)\n",
    "    price = np.exp(log_price)\n",
    "    return price"
   ]
  },
  {
   "cell_type": "markdown",
   "metadata": {},
   "source": [
    "## SUMMARY\n",
    "\n",
    "### How accurately can we predict prices? How consistently?"
   ]
  },
  {
   "cell_type": "markdown",
   "metadata": {},
   "source": [
    "As we've just seen, our production model has a median absolute error value of roughly 75,000, meaning that it has a typical variance of $75,000 in its predictions. Additionally, by plotting the full gamut of its error values against a standard normal distribution, we can see how its accuracies vary at the higher and lower ends of house prices.\n",
    "\n",
    "<img src='best_model_residuals_dist.png'>\n",
    "\n",
    "### Can this accuracy be improved by targeting a majority percentile and thus ignoring outliers?\n",
    "\n",
    "We also tested our best model on both the entirety of the dataset and the bottom 90th percentile of prices.\n",
    "\n",
    "<img src='percentiles.png'> \n",
    "\n",
    "With this, we observed a $11,700 or 13.4% decrease in the inaccuracy of our predictions. That's a lot for such a simple change. Focusing on this majority demographic was a very good idea indeed!"
   ]
  },
  {
   "cell_type": "code",
   "execution_count": null,
   "metadata": {},
   "outputs": [],
   "source": []
  }
 ],
 "metadata": {
  "kernelspec": {
   "display_name": "Python 3",
   "language": "python",
   "name": "python3"
  },
  "language_info": {
   "codemirror_mode": {
    "name": "ipython",
    "version": 3
   },
   "file_extension": ".py",
   "mimetype": "text/x-python",
   "name": "python",
   "nbconvert_exporter": "python",
   "pygments_lexer": "ipython3",
   "version": "3.7.1"
  }
 },
 "nbformat": 4,
 "nbformat_minor": 2
}
